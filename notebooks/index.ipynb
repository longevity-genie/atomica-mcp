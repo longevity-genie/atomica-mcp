{
 "cells": [
  {
   "cell_type": "markdown",
   "id": "5cd00cbe",
   "metadata": {},
   "source": [
    "## Resolve index\n"
   ]
  },
  {
   "cell_type": "code",
   "execution_count": 1,
   "id": "07614028",
   "metadata": {},
   "outputs": [
    {
     "name": "stdout",
     "output_type": "stream",
     "text": [
      "output\n",
      "\tatomica_index.parquet\n",
      "\tPP.csv\n",
      "\tPRNA.jsonl.gz\n",
      "\t.~lock.PP.csv#\n",
      "\tPpeptide.csv\n",
      "\tPP.jsonl.gz\n",
      "\tPP_embeddings.parquet\n",
      "\tPpeptide.jsonl.gz\n",
      "\tPP_extended.parquet\n",
      "\tPRNA.csv\n",
      "\tPP_advanced.parquet\n",
      "\t.gitignore\n",
      "\tidmapping_selected.parquet\n",
      "\tprotein_names.parquet\n",
      "\tPP_graph_embeddings.parquet\n",
      "\tpdbs\n",
      "\t\tREADME.md\n",
      "\t\t1TGR.pdb\n",
      "\t\t4XSS.pdb\n"
     ]
    }
   ],
   "source": [
    "import polars as pl\n",
    "from pathlib import Path\n",
    "from pycomfort.files import tprint\n",
    "\n",
    "base = Path.cwd().parent if Path.cwd().name == \"notebooks\" else Path.cwd()\n",
    "data_dir = base / \"data\"\n",
    "input_dir = data_dir / \"input\"\n",
    "output_dir = data_dir / \"output\"\n",
    "tprint(output_dir)"
   ]
  },
  {
   "cell_type": "code",
   "execution_count": 2,
   "id": "58de1d48",
   "metadata": {},
   "outputs": [
    {
     "data": {
      "text/plain": [
       "polars.config.Config"
      ]
     },
     "execution_count": 2,
     "metadata": {},
     "output_type": "execute_result"
    }
   ],
   "source": [
    "# Configure Polars to show all rows and strings without truncation\n",
    "pl.Config.set_tbl_rows(-1)  # Show all rows\n",
    "pl.Config.set_fmt_str_lengths(1000000)  # Don't truncate strings\n",
    "pl.Config.set_tbl_cols(-1)  # Show all columns\n",
    "pl.Config.set_tbl_width_chars(1000)  # Set wide table width\n"
   ]
  },
  {
   "cell_type": "code",
   "execution_count": 3,
   "id": "709f4639",
   "metadata": {},
   "outputs": [
    {
     "name": "stdout",
     "output_type": "stream",
     "text": [
      "output\n",
      "\tatomica_index.parquet\n",
      "\tPP.csv\n",
      "\tPRNA.jsonl.gz\n",
      "\t.~lock.PP.csv#\n",
      "\tPpeptide.csv\n",
      "\tPP.jsonl.gz\n",
      "\tPP_embeddings.parquet\n",
      "\tPpeptide.jsonl.gz\n",
      "\tPP_extended.parquet\n",
      "\tPRNA.csv\n",
      "\tPP_advanced.parquet\n",
      "\t.gitignore\n",
      "\tidmapping_selected.parquet\n",
      "\tprotein_names.parquet\n",
      "\tPP_graph_embeddings.parquet\n",
      "\tpdbs\n",
      "\t\tREADME.md\n",
      "\t\t1TGR.pdb\n",
      "\t\t4XSS.pdb\n"
     ]
    }
   ],
   "source": [
    "from pathlib import Path\n",
    "\n",
    "base = Path.cwd().parent if Path.cwd().name == \"notebooks\" else Path.cwd()\n",
    "data_dir = base / \"data\"\n",
    "input_dir = data_dir / \"input\"\n",
    "output_dir = data_dir / \"output\"\n",
    "tprint(output_dir)"
   ]
  },
  {
   "cell_type": "code",
   "execution_count": 4,
   "id": "aa2c49ef",
   "metadata": {},
   "outputs": [
    {
     "name": "stdout",
     "output_type": "stream",
     "text": [
      "Total rows: 83\n",
      "Columns: ['pdb_id', 'cif_path', 'metadata_path', 'summary_path', 'critical_residues_path', 'interact_scores_path', 'pymol_path', 'critical_residues_count', 'total_time_seconds', 'gpu_memory_mb_max', 'metadata_found', 'title', 'uniprot_ids', 'organisms', 'taxonomy_ids', 'gene_symbols', 'structures_json']\n"
     ]
    },
    {
     "data": {
      "text/html": [
       "<div><style>\n",
       ".dataframe > thead > tr,\n",
       ".dataframe > tbody > tr {\n",
       "  text-align: right;\n",
       "  white-space: pre-wrap;\n",
       "}\n",
       "</style>\n",
       "<small>shape: (5, 17)</small><table border=\"1\" class=\"dataframe\"><thead><tr><th>pdb_id</th><th>cif_path</th><th>metadata_path</th><th>summary_path</th><th>critical_residues_path</th><th>interact_scores_path</th><th>pymol_path</th><th>critical_residues_count</th><th>total_time_seconds</th><th>gpu_memory_mb_max</th><th>metadata_found</th><th>title</th><th>uniprot_ids</th><th>organisms</th><th>taxonomy_ids</th><th>gene_symbols</th><th>structures_json</th></tr><tr><td>str</td><td>str</td><td>str</td><td>str</td><td>str</td><td>str</td><td>str</td><td>i64</td><td>f64</td><td>f64</td><td>bool</td><td>str</td><td>list[null]</td><td>list[null]</td><td>list[null]</td><td>list[null]</td><td>str</td></tr></thead><tbody><tr><td>&quot;1B68&quot;</td><td>&quot;data/input/atomica_longevity_proteins/1b68.cif&quot;</td><td>&quot;data/input/atomica_longevity_proteins/1b68_metadata.json&quot;</td><td>&quot;data/input/atomica_longevity_proteins/1b68_summary.json&quot;</td><td>&quot;data/input/atomica_longevity_proteins/1b68_critical_residues.tsv&quot;</td><td>&quot;data/input/atomica_longevity_proteins/1b68_interact_scores.json&quot;</td><td>&quot;data/input/atomica_longevity_proteins/1b68_pymol_commands.pml&quot;</td><td>138</td><td>22.0</td><td>1035.62</td><td>true</td><td>&quot;APOLIPOPROTEIN E4 (APOE4), 22K FRAGMENT&quot;</td><td>[]</td><td>[]</td><td>[]</td><td>[]</td><td>&quot;[{&quot;structure_id&quot;: &quot;1B68&quot;, &quot;uniprot_id&quot;: null, &quot;gene_symbol&quot;: null, &quot;deposition_date&quot;: &quot;1999-01-21&quot;, &quot;experimental_method&quot;: &quot;X-RAY DIFFRACTION&quot;, &quot;resolution&quot;: 2, &quot;r_free&quot;: null, &quot;pdb_redo_available&quot;: false, &quot;pdb_redo_rfree&quot;: null, &quot;chains&quot;: [], &quot;coverage&quot;: {}, &quot;warnings&quot;: []}]&quot;</td></tr><tr><td>&quot;1LE2&quot;</td><td>&quot;data/input/atomica_longevity_proteins/1le2.cif&quot;</td><td>&quot;data/input/atomica_longevity_proteins/1le2_metadata.json&quot;</td><td>&quot;data/input/atomica_longevity_proteins/1le2_summary.json&quot;</td><td>&quot;data/input/atomica_longevity_proteins/1le2_critical_residues.tsv&quot;</td><td>&quot;data/input/atomica_longevity_proteins/1le2_interact_scores.json&quot;</td><td>&quot;data/input/atomica_longevity_proteins/1le2_pymol_commands.pml&quot;</td><td>144</td><td>22.99</td><td>1060.61</td><td>true</td><td>&quot;STRUCTURAL BASIS FOR ALTERED FUNCTION IN THE COMMON MUTANTS OF HUMAN APOLIPOPROTEIN-E&quot;</td><td>[]</td><td>[]</td><td>[]</td><td>[]</td><td>&quot;[{&quot;structure_id&quot;: &quot;1LE2&quot;, &quot;uniprot_id&quot;: null, &quot;gene_symbol&quot;: null, &quot;deposition_date&quot;: &quot;1991-08-22&quot;, &quot;experimental_method&quot;: &quot;X-RAY DIFFRACTION&quot;, &quot;resolution&quot;: 3, &quot;r_free&quot;: null, &quot;pdb_redo_available&quot;: false, &quot;pdb_redo_rfree&quot;: null, &quot;chains&quot;: [], &quot;coverage&quot;: {}, &quot;warnings&quot;: []}]&quot;</td></tr><tr><td>&quot;1LE4&quot;</td><td>&quot;data/input/atomica_longevity_proteins/1le4.cif&quot;</td><td>&quot;data/input/atomica_longevity_proteins/1le4_metadata.json&quot;</td><td>&quot;data/input/atomica_longevity_proteins/1le4_summary.json&quot;</td><td>&quot;data/input/atomica_longevity_proteins/1le4_critical_residues.tsv&quot;</td><td>&quot;data/input/atomica_longevity_proteins/1le4_interact_scores.json&quot;</td><td>&quot;data/input/atomica_longevity_proteins/1le4_pymol_commands.pml&quot;</td><td>139</td><td>22.18</td><td>1045.54</td><td>true</td><td>&quot;STRUCTURAL BASIS FOR ALTERED FUNCTION IN THE COMMON MUTANTS OF HUMAN APOLIPOPROTEIN-E&quot;</td><td>[]</td><td>[]</td><td>[]</td><td>[]</td><td>&quot;[{&quot;structure_id&quot;: &quot;1LE4&quot;, &quot;uniprot_id&quot;: null, &quot;gene_symbol&quot;: null, &quot;deposition_date&quot;: &quot;1991-08-22&quot;, &quot;experimental_method&quot;: &quot;X-RAY DIFFRACTION&quot;, &quot;resolution&quot;: 2.5, &quot;r_free&quot;: null, &quot;pdb_redo_available&quot;: false, &quot;pdb_redo_rfree&quot;: null, &quot;chains&quot;: [], &quot;coverage&quot;: {}, &quot;warnings&quot;: []}]&quot;</td></tr><tr><td>&quot;1LPE&quot;</td><td>&quot;data/input/atomica_longevity_proteins/1lpe.cif&quot;</td><td>&quot;data/input/atomica_longevity_proteins/1lpe_metadata.json&quot;</td><td>&quot;data/input/atomica_longevity_proteins/1lpe_summary.json&quot;</td><td>&quot;data/input/atomica_longevity_proteins/1lpe_critical_residues.tsv&quot;</td><td>&quot;data/input/atomica_longevity_proteins/1lpe_interact_scores.json&quot;</td><td>&quot;data/input/atomica_longevity_proteins/1lpe_pymol_commands.pml&quot;</td><td>144</td><td>23.11</td><td>1063.86</td><td>true</td><td>&quot;THREE-DIMENSIONAL STRUCTURE OF THE LDL RECEPTOR-BINDING DOMAIN OF HUMAN APOLIPOPROTEIN E&quot;</td><td>[]</td><td>[]</td><td>[]</td><td>[]</td><td>&quot;[{&quot;structure_id&quot;: &quot;1LPE&quot;, &quot;uniprot_id&quot;: null, &quot;gene_symbol&quot;: null, &quot;deposition_date&quot;: &quot;1991-08-22&quot;, &quot;experimental_method&quot;: &quot;X-RAY DIFFRACTION&quot;, &quot;resolution&quot;: 2.25, &quot;r_free&quot;: null, &quot;pdb_redo_available&quot;: false, &quot;pdb_redo_rfree&quot;: null, &quot;chains&quot;: [], &quot;coverage&quot;: {}, &quot;warnings&quot;: []}]&quot;</td></tr><tr><td>&quot;1NFN&quot;</td><td>&quot;data/input/atomica_longevity_proteins/1nfn.cif&quot;</td><td>&quot;data/input/atomica_longevity_proteins/1nfn_metadata.json&quot;</td><td>&quot;data/input/atomica_longevity_proteins/1nfn_summary.json&quot;</td><td>&quot;data/input/atomica_longevity_proteins/1nfn_critical_residues.tsv&quot;</td><td>&quot;data/input/atomica_longevity_proteins/1nfn_interact_scores.json&quot;</td><td>&quot;data/input/atomica_longevity_proteins/1nfn_pymol_commands.pml&quot;</td><td>132</td><td>21.04</td><td>990.49</td><td>true</td><td>&quot;APOLIPOPROTEIN E3 (APOE3)&quot;</td><td>[]</td><td>[]</td><td>[]</td><td>[]</td><td>&quot;[{&quot;structure_id&quot;: &quot;1NFN&quot;, &quot;uniprot_id&quot;: null, &quot;gene_symbol&quot;: null, &quot;deposition_date&quot;: &quot;1996-07-17&quot;, &quot;experimental_method&quot;: &quot;X-RAY DIFFRACTION&quot;, &quot;resolution&quot;: 1.8, &quot;r_free&quot;: null, &quot;pdb_redo_available&quot;: true, &quot;pdb_redo_rfree&quot;: 0.2454, &quot;chains&quot;: [], &quot;coverage&quot;: {}, &quot;warnings&quot;: []}]&quot;</td></tr></tbody></table></div>"
      ],
      "text/plain": [
       "shape: (5, 17)\n",
       "┌────────┬────────────────────────────────────────────────┬──────────────────────────────────────────────────────────┬─────────────────────────────────────────────────────────┬──────────────────────────────────────────────────────────────────┬─────────────────────────────────────────────────────────────────┬───────────────────────────────────────────────────────────────┬─────────────────────────┬────────────────────┬───────────────────┬────────────────┬──────────────────────────────────────────────────────────────────────────────────────────┬─────────────┬────────────┬──────────────┬──────────────┬─────────────────────────────────────────────────────────────────────────────────────────────────────────────────────────────────────────────────────────────────────────────────────────────────────────────────────────────────────────────────────────────────────────────────────────┐\n",
       "│ pdb_id ┆ cif_path                                       ┆ metadata_path                                            ┆ summary_path                                            ┆ critical_residues_path                                           ┆ interact_scores_path                                            ┆ pymol_path                                                    ┆ critical_residues_count ┆ total_time_seconds ┆ gpu_memory_mb_max ┆ metadata_found ┆ title                                                                                    ┆ uniprot_ids ┆ organisms  ┆ taxonomy_ids ┆ gene_symbols ┆ structures_json                                                                                                                                                                                                                                                                         │\n",
       "│ ---    ┆ ---                                            ┆ ---                                                      ┆ ---                                                     ┆ ---                                                              ┆ ---                                                             ┆ ---                                                           ┆ ---                     ┆ ---                ┆ ---               ┆ ---            ┆ ---                                                                                      ┆ ---         ┆ ---        ┆ ---          ┆ ---          ┆ ---                                                                                                                                                                                                                                                                                     │\n",
       "│ str    ┆ str                                            ┆ str                                                      ┆ str                                                     ┆ str                                                              ┆ str                                                             ┆ str                                                           ┆ i64                     ┆ f64                ┆ f64               ┆ bool           ┆ str                                                                                      ┆ list[null]  ┆ list[null] ┆ list[null]   ┆ list[null]   ┆ str                                                                                                                                                                                                                                                                                     │\n",
       "╞════════╪════════════════════════════════════════════════╪══════════════════════════════════════════════════════════╪═════════════════════════════════════════════════════════╪══════════════════════════════════════════════════════════════════╪═════════════════════════════════════════════════════════════════╪═══════════════════════════════════════════════════════════════╪═════════════════════════╪════════════════════╪═══════════════════╪════════════════╪══════════════════════════════════════════════════════════════════════════════════════════╪═════════════╪════════════╪══════════════╪══════════════╪═════════════════════════════════════════════════════════════════════════════════════════════════════════════════════════════════════════════════════════════════════════════════════════════════════════════════════════════════════════════════════════════════════════════════════════╡\n",
       "│ 1B68   ┆ data/input/atomica_longevity_proteins/1b68.cif ┆ data/input/atomica_longevity_proteins/1b68_metadata.json ┆ data/input/atomica_longevity_proteins/1b68_summary.json ┆ data/input/atomica_longevity_proteins/1b68_critical_residues.tsv ┆ data/input/atomica_longevity_proteins/1b68_interact_scores.json ┆ data/input/atomica_longevity_proteins/1b68_pymol_commands.pml ┆ 138                     ┆ 22.0               ┆ 1035.62           ┆ true           ┆ APOLIPOPROTEIN E4 (APOE4), 22K FRAGMENT                                                  ┆ []          ┆ []         ┆ []           ┆ []           ┆ [{\"structure_id\": \"1B68\", \"uniprot_id\": null, \"gene_symbol\": null, \"deposition_date\": \"1999-01-21\", \"experimental_method\": \"X-RAY DIFFRACTION\", \"resolution\": 2, \"r_free\": null, \"pdb_redo_available\": false, \"pdb_redo_rfree\": null, \"chains\": [], \"coverage\": {}, \"warnings\": []}]    │\n",
       "│ 1LE2   ┆ data/input/atomica_longevity_proteins/1le2.cif ┆ data/input/atomica_longevity_proteins/1le2_metadata.json ┆ data/input/atomica_longevity_proteins/1le2_summary.json ┆ data/input/atomica_longevity_proteins/1le2_critical_residues.tsv ┆ data/input/atomica_longevity_proteins/1le2_interact_scores.json ┆ data/input/atomica_longevity_proteins/1le2_pymol_commands.pml ┆ 144                     ┆ 22.99              ┆ 1060.61           ┆ true           ┆ STRUCTURAL BASIS FOR ALTERED FUNCTION IN THE COMMON MUTANTS OF HUMAN APOLIPOPROTEIN-E    ┆ []          ┆ []         ┆ []           ┆ []           ┆ [{\"structure_id\": \"1LE2\", \"uniprot_id\": null, \"gene_symbol\": null, \"deposition_date\": \"1991-08-22\", \"experimental_method\": \"X-RAY DIFFRACTION\", \"resolution\": 3, \"r_free\": null, \"pdb_redo_available\": false, \"pdb_redo_rfree\": null, \"chains\": [], \"coverage\": {}, \"warnings\": []}]    │\n",
       "│ 1LE4   ┆ data/input/atomica_longevity_proteins/1le4.cif ┆ data/input/atomica_longevity_proteins/1le4_metadata.json ┆ data/input/atomica_longevity_proteins/1le4_summary.json ┆ data/input/atomica_longevity_proteins/1le4_critical_residues.tsv ┆ data/input/atomica_longevity_proteins/1le4_interact_scores.json ┆ data/input/atomica_longevity_proteins/1le4_pymol_commands.pml ┆ 139                     ┆ 22.18              ┆ 1045.54           ┆ true           ┆ STRUCTURAL BASIS FOR ALTERED FUNCTION IN THE COMMON MUTANTS OF HUMAN APOLIPOPROTEIN-E    ┆ []          ┆ []         ┆ []           ┆ []           ┆ [{\"structure_id\": \"1LE4\", \"uniprot_id\": null, \"gene_symbol\": null, \"deposition_date\": \"1991-08-22\", \"experimental_method\": \"X-RAY DIFFRACTION\", \"resolution\": 2.5, \"r_free\": null, \"pdb_redo_available\": false, \"pdb_redo_rfree\": null, \"chains\": [], \"coverage\": {}, \"warnings\": []}]  │\n",
       "│ 1LPE   ┆ data/input/atomica_longevity_proteins/1lpe.cif ┆ data/input/atomica_longevity_proteins/1lpe_metadata.json ┆ data/input/atomica_longevity_proteins/1lpe_summary.json ┆ data/input/atomica_longevity_proteins/1lpe_critical_residues.tsv ┆ data/input/atomica_longevity_proteins/1lpe_interact_scores.json ┆ data/input/atomica_longevity_proteins/1lpe_pymol_commands.pml ┆ 144                     ┆ 23.11              ┆ 1063.86           ┆ true           ┆ THREE-DIMENSIONAL STRUCTURE OF THE LDL RECEPTOR-BINDING DOMAIN OF HUMAN APOLIPOPROTEIN E ┆ []          ┆ []         ┆ []           ┆ []           ┆ [{\"structure_id\": \"1LPE\", \"uniprot_id\": null, \"gene_symbol\": null, \"deposition_date\": \"1991-08-22\", \"experimental_method\": \"X-RAY DIFFRACTION\", \"resolution\": 2.25, \"r_free\": null, \"pdb_redo_available\": false, \"pdb_redo_rfree\": null, \"chains\": [], \"coverage\": {}, \"warnings\": []}] │\n",
       "│ 1NFN   ┆ data/input/atomica_longevity_proteins/1nfn.cif ┆ data/input/atomica_longevity_proteins/1nfn_metadata.json ┆ data/input/atomica_longevity_proteins/1nfn_summary.json ┆ data/input/atomica_longevity_proteins/1nfn_critical_residues.tsv ┆ data/input/atomica_longevity_proteins/1nfn_interact_scores.json ┆ data/input/atomica_longevity_proteins/1nfn_pymol_commands.pml ┆ 132                     ┆ 21.04              ┆ 990.49            ┆ true           ┆ APOLIPOPROTEIN E3 (APOE3)                                                                ┆ []          ┆ []         ┆ []           ┆ []           ┆ [{\"structure_id\": \"1NFN\", \"uniprot_id\": null, \"gene_symbol\": null, \"deposition_date\": \"1996-07-17\", \"experimental_method\": \"X-RAY DIFFRACTION\", \"resolution\": 1.8, \"r_free\": null, \"pdb_redo_available\": true, \"pdb_redo_rfree\": 0.2454, \"chains\": [], \"coverage\": {}, \"warnings\": []}] │\n",
       "└────────┴────────────────────────────────────────────────┴──────────────────────────────────────────────────────────┴─────────────────────────────────────────────────────────┴──────────────────────────────────────────────────────────────────┴─────────────────────────────────────────────────────────────────┴───────────────────────────────────────────────────────────────┴─────────────────────────┴────────────────────┴───────────────────┴────────────────┴──────────────────────────────────────────────────────────────────────────────────────────┴─────────────┴────────────┴──────────────┴──────────────┴─────────────────────────────────────────────────────────────────────────────────────────────────────────────────────────────────────────────────────────────────────────────────────────────────────────────────────────────────────────────────────────────────────────────────────────┘"
      ]
     },
     "execution_count": 4,
     "metadata": {},
     "output_type": "execute_result"
    }
   ],
   "source": [
    "import polars as pl\n",
    "from pathlib import Path\n",
    "\n",
    "df = pl.read_parquet(output_dir / \"atomica_index.parquet\")\n",
    "print(f\"Total rows: {len(df)}\")\n",
    "print(f\"Columns: {df.columns}\")\n",
    "df.head()\n"
   ]
  },
  {
   "cell_type": "code",
   "execution_count": null,
   "id": "12a0f405",
   "metadata": {},
   "outputs": [],
   "source": [
    "# Check for proteins with multiple species\n",
    "proteins_with_multiple_species = (\n",
    "    df.group_by(\"protein_name\")\n",
    "    .agg([\n",
    "        pl.col(\"species\").n_unique().alias(\"species_count\"),\n",
    "        pl.col(\"species\").unique().alias(\"species_list\")\n",
    "    ])\n",
    "    .filter(pl.col(\"species_count\") > 1)\n",
    "    .sort(\"species_count\", descending=True)\n",
    ")\n",
    "\n",
    "print(f\"\\nProteins with multiple species: {len(proteins_with_multiple_species)}\")\n",
    "proteins_with_multiple_species\n"
   ]
  },
  {
   "cell_type": "code",
   "execution_count": null,
   "id": "0883971a",
   "metadata": {},
   "outputs": [],
   "source": [
    "# Check for proteins with multiple UniProt IDs\n",
    "proteins_with_multiple_uniprots = (\n",
    "    df.group_by(\"protein_name\")\n",
    "    .agg([\n",
    "        pl.col(\"uniprot_id\").n_unique().alias(\"uniprot_count\"),\n",
    "        pl.col(\"uniprot_id\").unique().alias(\"uniprot_list\")\n",
    "    ])\n",
    "    .filter(pl.col(\"uniprot_count\") > 1)\n",
    "    .sort(\"uniprot_count\", descending=True)\n",
    ")\n",
    "\n",
    "print(f\"\\nProteins with multiple UniProt IDs: {len(proteins_with_multiple_uniprots)}\")\n",
    "proteins_with_multiple_uniprots\n"
   ]
  },
  {
   "cell_type": "code",
   "execution_count": null,
   "id": "f0bf9afe",
   "metadata": {},
   "outputs": [],
   "source": [
    "# Check for proteins with both multiple species AND multiple UniProt IDs\n",
    "proteins_with_both = (\n",
    "    df.group_by(\"protein_name\")\n",
    "    .agg([\n",
    "        pl.col(\"species\").n_unique().alias(\"species_count\"),\n",
    "        pl.col(\"uniprot_id\").n_unique().alias(\"uniprot_count\"),\n",
    "        pl.col(\"species\").unique().alias(\"species_list\"),\n",
    "        pl.col(\"uniprot_id\").unique().alias(\"uniprot_list\")\n",
    "    ])\n",
    "    .filter((pl.col(\"species_count\") > 1) & (pl.col(\"uniprot_count\") > 1))\n",
    "    .sort([\"species_count\", \"uniprot_count\"], descending=True)\n",
    ")\n",
    "\n",
    "print(f\"\\nProteins with BOTH multiple species AND multiple UniProt IDs: {len(proteins_with_both)}\")\n",
    "proteins_with_both\n"
   ]
  },
  {
   "cell_type": "code",
   "execution_count": null,
   "id": "0c6b4230",
   "metadata": {},
   "outputs": [],
   "source": [
    "# Get detailed view of a sample protein with multiple entries\n",
    "if len(proteins_with_both) > 0:\n",
    "    sample_protein = proteins_with_both[0, \"protein_name\"]\n",
    "    print(f\"\\nDetailed view of protein: {sample_protein}\")\n",
    "    df.filter(pl.col(\"protein_name\") == sample_protein).select([\n",
    "        \"protein_name\", \"uniprot_id\", \"species\", \"pdb_id\", \"organism\"\n",
    "    ])\n",
    "elif len(proteins_with_multiple_species) > 0:\n",
    "    sample_protein = proteins_with_multiple_species[0, \"protein_name\"]\n",
    "    print(f\"\\nDetailed view of protein with multiple species: {sample_protein}\")\n",
    "    df.filter(pl.col(\"protein_name\") == sample_protein).select([\n",
    "        \"protein_name\", \"uniprot_id\", \"species\", \"pdb_id\", \"organism\"\n",
    "    ])\n",
    "elif len(proteins_with_multiple_uniprots) > 0:\n",
    "    sample_protein = proteins_with_multiple_uniprots[0, \"protein_name\"]\n",
    "    print(f\"\\nDetailed view of protein with multiple UniProt IDs: {sample_protein}\")\n",
    "    df.filter(pl.col(\"protein_name\") == sample_protein).select([\n",
    "        \"protein_name\", \"uniprot_id\", \"species\", \"pdb_id\", \"organism\"\n",
    "    ])\n",
    "else:\n",
    "    print(\"\\nNo proteins with multiple species or UniProt IDs found\")\n"
   ]
  },
  {
   "cell_type": "code",
   "execution_count": null,
   "id": "759ff53f",
   "metadata": {},
   "outputs": [],
   "source": [
    "# Summary statistics\n",
    "print(\"\\n=== SUMMARY ===\")\n",
    "print(f\"Total unique protein names: {df['protein_name'].n_unique()}\")\n",
    "print(f\"Total unique UniProt IDs: {df['uniprot_id'].n_unique()}\")\n",
    "print(f\"Total unique species: {df['species'].n_unique()}\")\n",
    "print(f\"Total PDB entries: {len(df)}\")\n",
    "print(f\"\\nProteins with multiple species: {len(proteins_with_multiple_species)}\")\n",
    "print(f\"Proteins with multiple UniProt IDs: {len(proteins_with_multiple_uniprots)}\")\n",
    "print(f\"Proteins with both: {len(proteins_with_both)}\")\n"
   ]
  }
 ],
 "metadata": {
  "kernelspec": {
   "display_name": ".venv",
   "language": "python",
   "name": "python3"
  },
  "language_info": {
   "codemirror_mode": {
    "name": "ipython",
    "version": 3
   },
   "file_extension": ".py",
   "mimetype": "text/x-python",
   "name": "python",
   "nbconvert_exporter": "python",
   "pygments_lexer": "ipython3",
   "version": "3.13.5"
  }
 },
 "nbformat": 4,
 "nbformat_minor": 5
}
