{
 "cells": [
  {
   "cell_type": "markdown",
   "id": "b78e5895-bb93-4eb5-aa75-de45cfd10541",
   "metadata": {},
   "source": [
    "Exploration notebook for the PP data"
   ]
  },
  {
   "cell_type": "code",
   "execution_count": 1,
   "id": "b9432e54-2d8a-4fc0-ac07-ce928def9780",
   "metadata": {},
   "outputs": [],
   "source": [
    "import polars as pl\n",
    "from pathlib import Path\n",
    "from pycomfort import files\n",
    "from pycomfort.files import tprint\n",
    "from eliot import start_action"
   ]
  },
  {
   "cell_type": "code",
   "execution_count": 2,
   "id": "c466d617-af0b-429a-ac6c-15c579f78b3b",
   "metadata": {},
   "outputs": [
    {
     "data": {
      "text/plain": [
       "PosixPath('/home/antonkulaga/sources/pdb-mcp')"
      ]
     },
     "execution_count": 2,
     "metadata": {},
     "output_type": "execute_result"
    }
   ],
   "source": [
    "base = Path.cwd().parent if \"notebooks\" in Path.cwd().name else Path.cwd()\n",
    "base"
   ]
  },
  {
   "cell_type": "code",
   "execution_count": 3,
   "id": "336c3515-0709-4d73-b410-ad76bd67efc5",
   "metadata": {},
   "outputs": [],
   "source": [
    "data = base / \"data\"\n",
    "input = data / \"input\"\n",
    "output = data / \"output\""
   ]
  },
  {
   "cell_type": "code",
   "execution_count": 4,
   "id": "44e9d955",
   "metadata": {},
   "outputs": [
    {
     "name": "stdout",
     "output_type": "stream",
     "text": [
      "input\n",
      "\tuniprot\n",
      "\t\tidmapping_selected.tab\n",
      "\t\t.gitignore\n",
      "\tanage\n",
      "\t\tanage_data.txt\n",
      "\tpdb\n",
      "\t\tuniprot_segments_observed.tsv.gz\n",
      "\t\tpdb_chain_scop2b_sf_uniprot.tsv.gz\n",
      "\t\tpdb_chain_scop_uniprot.tsv.gz\n",
      "\t\tpdb_chain_pfam.tsv.gz\n",
      "\t\tpdb_chain_enzyme.tsv.gz\n",
      "\t\tpdb_chain_taxonomy.tsv.gz\n",
      "\t\tpdb_chain_cath_uniprot.tsv.gz\n",
      "\t\tpdb_chain_hmmer.tsv.gz\n",
      "\t\tpdb_chain_uniprot.tsv.gz\n",
      "\t\tpdb_chain_scop2_uniprot.tsv.gz\n",
      "\t\t.gitignore\n",
      "\t\tuniprot_pdb.tsv.gz\n",
      "\t\tpdb_chain_go.tsv.gz\n",
      "\t\tpdb_chain_interpro.tsv.gz\n",
      "\t\tpdb_pfam_mapping.tsv.gz\n",
      "\t\tpdb_chain_ensembl.tsv.gz\n",
      "\t\tpdb_pubmed.tsv.gz\n"
     ]
    }
   ],
   "source": [
    "tprint(input)"
   ]
  },
  {
   "cell_type": "code",
   "execution_count": 5,
   "id": "bb93cdd2",
   "metadata": {},
   "outputs": [
    {
     "name": "stdout",
     "output_type": "stream",
     "text": [
      "output\n",
      "\tPP.csv\n",
      "\tPRNA.jsonl.gz\n",
      "\t.~lock.PP.csv#\n",
      "\tPpeptide.csv\n",
      "\tPP.jsonl.gz\n",
      "\tPP_embeddings.parquet\n",
      "\tPpeptide.jsonl.gz\n",
      "\tPP_extended.parquet\n",
      "\tPRNA.csv\n",
      "\tPP_advanced.parquet\n",
      "\t.gitignore\n",
      "\tidmapping_selected.parquet\n",
      "\tprotein_names.parquet\n",
      "\tPP_graph_embeddings.parquet\n"
     ]
    }
   ],
   "source": [
    "tprint(output)"
   ]
  },
  {
   "cell_type": "code",
   "execution_count": 6,
   "id": "14307727-0081-417b-8c10-36b9e8d4bf52",
   "metadata": {},
   "outputs": [
    {
     "data": {
      "text/html": [
       "<div><style>\n",
       ".dataframe > thead > tr,\n",
       ".dataframe > tbody > tr {\n",
       "  text-align: right;\n",
       "  white-space: pre-wrap;\n",
       "}\n",
       "</style>\n",
       "<small>shape: (5, 12)</small><table border=\"1\" class=\"dataframe\"><thead><tr><th>entry_id</th><th>pdb_id</th><th>chain_id</th><th>protein_name</th><th>organism</th><th>common_name</th><th>taxonomy_id</th><th>classification</th><th>max_longevity_yrs</th><th>kingdom</th><th>phylum</th><th>uniprot_ids</th></tr><tr><td>str</td><td>str</td><td>str</td><td>str</td><td>str</td><td>str</td><td>i64</td><td>str</td><td>f64</td><td>str</td><td>str</td><td>str</td></tr></thead><tbody><tr><td>&quot;2kn7_1_A_B&quot;</td><td>&quot;2kn7&quot;</td><td>&quot;A&quot;</td><td>&quot;N/A (from TSV)&quot;</td><td>&quot;Home sapiens&quot;</td><td>&quot;Human&quot;</td><td>9606</td><td>&quot;Mammalia&quot;</td><td>122.5</td><td>&quot;Animalia&quot;</td><td>&quot;Chordata&quot;</td><td>&quot;Q92889&quot;</td></tr><tr><td>&quot;8bb7_2_A_B&quot;</td><td>&quot;8bb7&quot;</td><td>&quot;A&quot;</td><td>&quot;N/A (from TSV)&quot;</td><td>&quot;Balb/c mouse&quot;</td><td>&quot;House mouse&quot;</td><td>10090</td><td>&quot;Mammalia&quot;</td><td>4.0</td><td>&quot;Animalia&quot;</td><td>&quot;Chordata&quot;</td><td>&quot;Q8CJH3&quot;</td></tr><tr><td>&quot;8bb7_2_A_B&quot;</td><td>&quot;8bb7&quot;</td><td>&quot;B&quot;</td><td>&quot;N/A (from TSV)&quot;</td><td>&quot;Balb/c mouse&quot;</td><td>&quot;House mouse&quot;</td><td>10090</td><td>&quot;Mammalia&quot;</td><td>4.0</td><td>&quot;Animalia&quot;</td><td>&quot;Chordata&quot;</td><td>&quot;Q8CJH3&quot;</td></tr><tr><td>&quot;5y4t_1_A_B&quot;</td><td>&quot;5y4t&quot;</td><td>&quot;A&quot;</td><td>&quot;N/A (from TSV)&quot;</td><td>&quot;Baker&#x27;s yeast&quot;</td><td>&quot;Baker&#x27;s yeast&quot;</td><td>307796</td><td>&quot;Saccharomycetes&quot;</td><td>0.04</td><td>&quot;Fungi&quot;</td><td>&quot;Ascomycota&quot;</td><td>&quot;A6ZY62&quot;</td></tr><tr><td>&quot;5bow_2_A_B&quot;</td><td>&quot;5bow&quot;</td><td>&quot;A&quot;</td><td>&quot;N/A (from TSV)&quot;</td><td>&quot;Home sapiens&quot;</td><td>&quot;Human&quot;</td><td>9606</td><td>&quot;Mammalia&quot;</td><td>122.5</td><td>&quot;Animalia&quot;</td><td>&quot;Chordata&quot;</td><td>&quot;Q8WWZ1&quot;</td></tr></tbody></table></div>"
      ],
      "text/plain": [
       "shape: (5, 12)\n",
       "┌────────────┬────────┬──────────┬────────────┬───┬────────────┬──────────┬────────────┬───────────┐\n",
       "│ entry_id   ┆ pdb_id ┆ chain_id ┆ protein_na ┆ … ┆ max_longev ┆ kingdom  ┆ phylum     ┆ uniprot_i │\n",
       "│ ---        ┆ ---    ┆ ---      ┆ me         ┆   ┆ ity_yrs    ┆ ---      ┆ ---        ┆ ds        │\n",
       "│ str        ┆ str    ┆ str      ┆ ---        ┆   ┆ ---        ┆ str      ┆ str        ┆ ---       │\n",
       "│            ┆        ┆          ┆ str        ┆   ┆ f64        ┆          ┆            ┆ str       │\n",
       "╞════════════╪════════╪══════════╪════════════╪═══╪════════════╪══════════╪════════════╪═══════════╡\n",
       "│ 2kn7_1_A_B ┆ 2kn7   ┆ A        ┆ N/A (from  ┆ … ┆ 122.5      ┆ Animalia ┆ Chordata   ┆ Q92889    │\n",
       "│            ┆        ┆          ┆ TSV)       ┆   ┆            ┆          ┆            ┆           │\n",
       "│ 8bb7_2_A_B ┆ 8bb7   ┆ A        ┆ N/A (from  ┆ … ┆ 4.0        ┆ Animalia ┆ Chordata   ┆ Q8CJH3    │\n",
       "│            ┆        ┆          ┆ TSV)       ┆   ┆            ┆          ┆            ┆           │\n",
       "│ 8bb7_2_A_B ┆ 8bb7   ┆ B        ┆ N/A (from  ┆ … ┆ 4.0        ┆ Animalia ┆ Chordata   ┆ Q8CJH3    │\n",
       "│            ┆        ┆          ┆ TSV)       ┆   ┆            ┆          ┆            ┆           │\n",
       "│ 5y4t_1_A_B ┆ 5y4t   ┆ A        ┆ N/A (from  ┆ … ┆ 0.04       ┆ Fungi    ┆ Ascomycota ┆ A6ZY62    │\n",
       "│            ┆        ┆          ┆ TSV)       ┆   ┆            ┆          ┆            ┆           │\n",
       "│ 5bow_2_A_B ┆ 5bow   ┆ A        ┆ N/A (from  ┆ … ┆ 122.5      ┆ Animalia ┆ Chordata   ┆ Q8WWZ1    │\n",
       "│            ┆        ┆          ┆ TSV)       ┆   ┆            ┆          ┆            ┆           │\n",
       "└────────────┴────────┴──────────┴────────────┴───┴────────────┴──────────┴────────────┴───────────┘"
      ]
     },
     "execution_count": 6,
     "metadata": {},
     "output_type": "execute_result"
    }
   ],
   "source": [
    "pp_path = output / \"PP.csv\"\n",
    "pp = pl.scan_csv(pp_path)\n",
    "pp.head().collect()"
   ]
  },
  {
   "cell_type": "code",
   "execution_count": 7,
   "id": "0a09231a",
   "metadata": {},
   "outputs": [
    {
     "data": {
      "text/html": [
       "<div><style>\n",
       ".dataframe > thead > tr,\n",
       ".dataframe > tbody > tr {\n",
       "  text-align: right;\n",
       "  white-space: pre-wrap;\n",
       "}\n",
       "</style>\n",
       "<small>shape: (5, 22)</small><table border=\"1\" class=\"dataframe\"><thead><tr><th>UniProtKB_AC</th><th>UniProtKB_ID</th><th>GeneID_EntrezGene</th><th>RefSeq</th><th>GI</th><th>PDB</th><th>GO</th><th>UniRef100</th><th>UniRef90</th><th>UniRef50</th><th>UniParc</th><th>PIR</th><th>NCBI_taxon</th><th>MIM</th><th>UniGene</th><th>PubMed</th><th>EMBL</th><th>EMBL_CDS</th><th>Ensembl</th><th>Ensembl_TRS</th><th>Ensembl_PRO</th><th>Additional_PubMed</th></tr><tr><td>str</td><td>str</td><td>str</td><td>str</td><td>list[str]</td><td>str</td><td>list[str]</td><td>str</td><td>str</td><td>str</td><td>str</td><td>str</td><td>i64</td><td>str</td><td>str</td><td>list[str]</td><td>list[str]</td><td>list[str]</td><td>list[str]</td><td>list[str]</td><td>list[str]</td><td>list[str]</td></tr></thead><tbody><tr><td>&quot;Q6GZX4&quot;</td><td>&quot;001R_FRG3G&quot;</td><td>null</td><td>&quot;YP_031579.1&quot;</td><td>[&quot;81941549&quot;, &quot; 49237298&quot;]</td><td>null</td><td>[&quot;GO:0046782&quot;]</td><td>&quot;UniRef100_Q6GZX4&quot;</td><td>&quot;UniRef90_Q6GZX4&quot;</td><td>&quot;UniRef50_Q6GZX4&quot;</td><td>&quot;UPI00003B0FD4&quot;</td><td>null</td><td>654924</td><td>null</td><td>null</td><td>[&quot;15165820&quot;]</td><td>[&quot;AY548484&quot;]</td><td>[&quot;AAT09660.1&quot;]</td><td>null</td><td>null</td><td>null</td><td>null</td></tr><tr><td>&quot;Q6GZX3&quot;</td><td>&quot;002L_FRG3G&quot;</td><td>null</td><td>&quot;YP_031580.1&quot;</td><td>[&quot;49237299&quot;, &quot; 81941548&quot;]</td><td>null</td><td>[&quot;GO:0033644&quot;, &quot; GO:0016020&quot;]</td><td>&quot;UniRef100_Q6GZX3&quot;</td><td>&quot;UniRef90_Q6GZX3&quot;</td><td>&quot;UniRef50_Q6GZX3&quot;</td><td>&quot;UPI00003B0FD5&quot;</td><td>null</td><td>654924</td><td>null</td><td>null</td><td>[&quot;15165820&quot;]</td><td>[&quot;AY548484&quot;]</td><td>[&quot;AAT09661.1&quot;]</td><td>null</td><td>null</td><td>null</td><td>null</td></tr><tr><td>&quot;Q197F8&quot;</td><td>&quot;002R_IIV3&quot;</td><td>null</td><td>&quot;YP_654574.1&quot;</td><td>[&quot;109287880&quot;, &quot; 123808694&quot;, &quot; 106073503&quot;]</td><td>null</td><td>null</td><td>&quot;UniRef100_Q197F8&quot;</td><td>&quot;UniRef90_Q197F8&quot;</td><td>&quot;UniRef50_Q197F8&quot;</td><td>&quot;UPI0000D83464&quot;</td><td>null</td><td>345201</td><td>null</td><td>null</td><td>[&quot;16912294&quot;]</td><td>[&quot;DQ643392&quot;]</td><td>[&quot;ABF82032.1&quot;]</td><td>null</td><td>null</td><td>null</td><td>null</td></tr><tr><td>&quot;Q197F7&quot;</td><td>&quot;003L_IIV3&quot;</td><td>null</td><td>&quot;YP_654575.1&quot;</td><td>[&quot;106073504&quot;, &quot; 109287881&quot;, &quot; 123808693&quot;]</td><td>null</td><td>null</td><td>&quot;UniRef100_Q197F7&quot;</td><td>&quot;UniRef90_Q197F7&quot;</td><td>&quot;UniRef50_Q197F7&quot;</td><td>&quot;UPI0000D83465&quot;</td><td>null</td><td>345201</td><td>null</td><td>null</td><td>[&quot;16912294&quot;]</td><td>[&quot;DQ643392&quot;]</td><td>[&quot;ABF82033.1&quot;]</td><td>null</td><td>null</td><td>null</td><td>null</td></tr><tr><td>&quot;Q6GZX2&quot;</td><td>&quot;003R_FRG3G&quot;</td><td>null</td><td>&quot;YP_031581.1&quot;</td><td>[&quot;81941547&quot;, &quot; 49237300&quot;]</td><td>null</td><td>null</td><td>&quot;UniRef100_Q6GZX2&quot;</td><td>&quot;UniRef90_Q6GZX2&quot;</td><td>&quot;UniRef50_Q6GZX2&quot;</td><td>&quot;UPI00003B0FD6&quot;</td><td>null</td><td>654924</td><td>null</td><td>null</td><td>[&quot;15165820&quot;]</td><td>[&quot;AY548484&quot;]</td><td>[&quot;AAT09662.1&quot;]</td><td>null</td><td>null</td><td>null</td><td>null</td></tr></tbody></table></div>"
      ],
      "text/plain": [
       "shape: (5, 22)\n",
       "┌───────────┬───────────┬───────────┬───────────┬───┬───────────┬───────────┬───────────┬──────────┐\n",
       "│ UniProtKB ┆ UniProtKB ┆ GeneID_En ┆ RefSeq    ┆ … ┆ Ensembl   ┆ Ensembl_T ┆ Ensembl_P ┆ Addition │\n",
       "│ _AC       ┆ _ID       ┆ trezGene  ┆ ---       ┆   ┆ ---       ┆ RS        ┆ RO        ┆ al_PubMe │\n",
       "│ ---       ┆ ---       ┆ ---       ┆ str       ┆   ┆ list[str] ┆ ---       ┆ ---       ┆ d        │\n",
       "│ str       ┆ str       ┆ str       ┆           ┆   ┆           ┆ list[str] ┆ list[str] ┆ ---      │\n",
       "│           ┆           ┆           ┆           ┆   ┆           ┆           ┆           ┆ list[str │\n",
       "│           ┆           ┆           ┆           ┆   ┆           ┆           ┆           ┆ ]        │\n",
       "╞═══════════╪═══════════╪═══════════╪═══════════╪═══╪═══════════╪═══════════╪═══════════╪══════════╡\n",
       "│ Q6GZX4    ┆ 001R_FRG3 ┆ null      ┆ YP_031579 ┆ … ┆ null      ┆ null      ┆ null      ┆ null     │\n",
       "│           ┆ G         ┆           ┆ .1        ┆   ┆           ┆           ┆           ┆          │\n",
       "│ Q6GZX3    ┆ 002L_FRG3 ┆ null      ┆ YP_031580 ┆ … ┆ null      ┆ null      ┆ null      ┆ null     │\n",
       "│           ┆ G         ┆           ┆ .1        ┆   ┆           ┆           ┆           ┆          │\n",
       "│ Q197F8    ┆ 002R_IIV3 ┆ null      ┆ YP_654574 ┆ … ┆ null      ┆ null      ┆ null      ┆ null     │\n",
       "│           ┆           ┆           ┆ .1        ┆   ┆           ┆           ┆           ┆          │\n",
       "│ Q197F7    ┆ 003L_IIV3 ┆ null      ┆ YP_654575 ┆ … ┆ null      ┆ null      ┆ null      ┆ null     │\n",
       "│           ┆           ┆           ┆ .1        ┆   ┆           ┆           ┆           ┆          │\n",
       "│ Q6GZX2    ┆ 003R_FRG3 ┆ null      ┆ YP_031581 ┆ … ┆ null      ┆ null      ┆ null      ┆ null     │\n",
       "│           ┆ G         ┆           ┆ .1        ┆   ┆           ┆           ┆           ┆          │\n",
       "└───────────┴───────────┴───────────┴───────────┴───┴───────────┴───────────┴───────────┴──────────┘"
      ]
     },
     "execution_count": 7,
     "metadata": {},
     "output_type": "execute_result"
    }
   ],
   "source": [
    "mapping_parquet = output / \"idmapping_selected.parquet\"\n",
    "mapping = pl.scan_parquet(mapping_parquet)\n",
    "mapping.head().collect()\n"
   ]
  },
  {
   "cell_type": "code",
   "execution_count": 8,
   "id": "6a7306d6",
   "metadata": {},
   "outputs": [],
   "source": [
    "pp_extended = pp.join(mapping.with_columns(pl.col(\"UniProtKB_AC\").alias(\"uniprot_ids\")), on=\"uniprot_ids\")"
   ]
  },
  {
   "cell_type": "code",
   "execution_count": 9,
   "id": "713363ef",
   "metadata": {},
   "outputs": [],
   "source": [
    "pp_extended.sink_parquet(output / \"PP_extended.parquet\")"
   ]
  },
  {
   "cell_type": "code",
   "execution_count": 13,
   "id": "94ca1c3e",
   "metadata": {},
   "outputs": [
    {
     "data": {
      "text/html": [
       "<div><style>\n",
       ".dataframe > thead > tr,\n",
       ".dataframe > tbody > tr {\n",
       "  text-align: right;\n",
       "  white-space: pre-wrap;\n",
       "}\n",
       "</style>\n",
       "<small>shape: (5, 34)</small><table border=\"1\" class=\"dataframe\"><thead><tr><th>id</th><th>pdb_id</th><th>chain_id</th><th>protein_name</th><th>organism</th><th>common_name</th><th>taxonomy_id</th><th>classification</th><th>max_longevity_yrs</th><th>kingdom</th><th>phylum</th><th>uniprot_ids</th><th>UniProtKB_AC</th><th>UniProtKB_ID</th><th>GeneID_EntrezGene</th><th>RefSeq</th><th>GI</th><th>PDB</th><th>GO</th><th>UniRef100</th><th>UniRef90</th><th>UniRef50</th><th>UniParc</th><th>PIR</th><th>NCBI_taxon</th><th>MIM</th><th>UniGene</th><th>PubMed</th><th>EMBL</th><th>EMBL_CDS</th><th>Ensembl</th><th>Ensembl_TRS</th><th>Ensembl_PRO</th><th>Additional_PubMed</th></tr><tr><td>str</td><td>str</td><td>str</td><td>str</td><td>str</td><td>str</td><td>i64</td><td>str</td><td>f64</td><td>str</td><td>str</td><td>str</td><td>str</td><td>str</td><td>str</td><td>str</td><td>list[str]</td><td>str</td><td>list[str]</td><td>str</td><td>str</td><td>str</td><td>str</td><td>str</td><td>i64</td><td>str</td><td>str</td><td>list[str]</td><td>list[str]</td><td>list[str]</td><td>list[str]</td><td>list[str]</td><td>list[str]</td><td>list[str]</td></tr></thead><tbody><tr><td>&quot;7um4_1_A_B&quot;</td><td>&quot;7um4&quot;</td><td>&quot;B&quot;</td><td>&quot;N/A (from TSV)&quot;</td><td>&quot;Home sapiens&quot;</td><td>&quot;Human&quot;</td><td>9606</td><td>&quot;Mammalia&quot;</td><td>122.5</td><td>&quot;Animalia&quot;</td><td>&quot;Chordata&quot;</td><td>&quot;Q9V2J8&quot;</td><td>&quot;Q9V2J8&quot;</td><td>&quot;Q9V2J8_PYRAB&quot;</td><td>null</td><td>&quot;WP_010867201.1&quot;</td><td>[&quot;83754399&quot;, &quot; 283806864&quot;, … &quot; 83754400&quot;]</td><td>&quot;2BFW:A; 2BIS:A; 2BIS:B; 2BIS:C…</td><td>[&quot;GO:0004373&quot;]</td><td>&quot;UniRef100_Q9V2J8&quot;</td><td>&quot;UniRef90_Q9V2J8&quot;</td><td>&quot;UniRef50_C5A4D7&quot;</td><td>&quot;UPI00000346E2&quot;</td><td>&quot;A75194&quot;</td><td>272844</td><td>null</td><td>null</td><td>[&quot;10736225&quot;, &quot; 11381026&quot;, … &quot; 39695122&quot;]</td><td>[&quot;AJ248283&quot;, &quot; HE613800&quot;]</td><td>[&quot;CAB49000.1&quot;, &quot; CCE69451.1&quot;]</td><td>null</td><td>null</td><td>null</td><td>null</td></tr><tr><td>&quot;1gl2_1_A_C&quot;</td><td>&quot;1gl2&quot;</td><td>&quot;C&quot;</td><td>&quot;N/A (from TSV)&quot;</td><td>&quot;Balb/c mouse&quot;</td><td>&quot;House mouse&quot;</td><td>10090</td><td>&quot;Mammalia&quot;</td><td>4.0</td><td>&quot;Animalia&quot;</td><td>&quot;Chordata&quot;</td><td>&quot;O88384&quot;</td><td>&quot;O88384&quot;</td><td>&quot;VTI1B_MOUSE&quot;</td><td>null</td><td>null</td><td>[&quot;13124606&quot;, &quot; 18655560&quot;, … &quot; 3213229&quot;]</td><td>&quot;1GL2:C; 2QYW:A&quot;</td><td>[&quot;GO:0031901&quot;, &quot; GO:0005794&quot;, … &quot; GO:0016192&quot;]</td><td>&quot;UniRef100_O88384&quot;</td><td>&quot;UniRef90_O88384&quot;</td><td>&quot;UniRef50_O88384&quot;</td><td>&quot;UPI0000029675&quot;</td><td>null</td><td>10090</td><td>null</td><td>null</td><td>[&quot;9553086&quot;, &quot; 15363411&quot;, … &quot; 11786915&quot;]</td><td>[&quot;AF035208&quot;]</td><td>[&quot;AAC23483.1&quot;]</td><td>null</td><td>null</td><td>null</td><td>[&quot;12861006&quot;, &quot; 15640147&quot;, … &quot; 23258225&quot;]</td></tr><tr><td>&quot;1gl2_1_C_B&quot;</td><td>&quot;1gl2&quot;</td><td>&quot;C&quot;</td><td>&quot;N/A (from TSV)&quot;</td><td>&quot;Balb/c mouse&quot;</td><td>&quot;House mouse&quot;</td><td>10090</td><td>&quot;Mammalia&quot;</td><td>4.0</td><td>&quot;Animalia&quot;</td><td>&quot;Chordata&quot;</td><td>&quot;O88384&quot;</td><td>&quot;O88384&quot;</td><td>&quot;VTI1B_MOUSE&quot;</td><td>null</td><td>null</td><td>[&quot;13124606&quot;, &quot; 18655560&quot;, … &quot; 3213229&quot;]</td><td>&quot;1GL2:C; 2QYW:A&quot;</td><td>[&quot;GO:0031901&quot;, &quot; GO:0005794&quot;, … &quot; GO:0016192&quot;]</td><td>&quot;UniRef100_O88384&quot;</td><td>&quot;UniRef90_O88384&quot;</td><td>&quot;UniRef50_O88384&quot;</td><td>&quot;UPI0000029675&quot;</td><td>null</td><td>10090</td><td>null</td><td>null</td><td>[&quot;9553086&quot;, &quot; 15363411&quot;, … &quot; 11786915&quot;]</td><td>[&quot;AF035208&quot;]</td><td>[&quot;AAC23483.1&quot;]</td><td>null</td><td>null</td><td>null</td><td>[&quot;12861006&quot;, &quot; 15640147&quot;, … &quot; 23258225&quot;]</td></tr><tr><td>&quot;1gl2_1_D_C&quot;</td><td>&quot;1gl2&quot;</td><td>&quot;C&quot;</td><td>&quot;N/A (from TSV)&quot;</td><td>&quot;Balb/c mouse&quot;</td><td>&quot;House mouse&quot;</td><td>10090</td><td>&quot;Mammalia&quot;</td><td>4.0</td><td>&quot;Animalia&quot;</td><td>&quot;Chordata&quot;</td><td>&quot;O88384&quot;</td><td>&quot;O88384&quot;</td><td>&quot;VTI1B_MOUSE&quot;</td><td>null</td><td>null</td><td>[&quot;13124606&quot;, &quot; 18655560&quot;, … &quot; 3213229&quot;]</td><td>&quot;1GL2:C; 2QYW:A&quot;</td><td>[&quot;GO:0031901&quot;, &quot; GO:0005794&quot;, … &quot; GO:0016192&quot;]</td><td>&quot;UniRef100_O88384&quot;</td><td>&quot;UniRef90_O88384&quot;</td><td>&quot;UniRef50_O88384&quot;</td><td>&quot;UPI0000029675&quot;</td><td>null</td><td>10090</td><td>null</td><td>null</td><td>[&quot;9553086&quot;, &quot; 15363411&quot;, … &quot; 11786915&quot;]</td><td>[&quot;AF035208&quot;]</td><td>[&quot;AAC23483.1&quot;]</td><td>null</td><td>null</td><td>null</td><td>[&quot;12861006&quot;, &quot; 15640147&quot;, … &quot; 23258225&quot;]</td></tr><tr><td>&quot;7xrb_1_A_B&quot;</td><td>&quot;7xrb&quot;</td><td>&quot;A&quot;</td><td>&quot;N/A (from TSV)&quot;</td><td>&quot;Home sapiens&quot;</td><td>&quot;Human&quot;</td><td>9606</td><td>&quot;Mammalia&quot;</td><td>122.5</td><td>&quot;Animalia&quot;</td><td>&quot;Chordata&quot;</td><td>&quot;P49842&quot;</td><td>&quot;P49842&quot;</td><td>&quot;WHR1_HUMAN&quot;</td><td>&quot;8859&quot;</td><td>&quot;NP_004188.1; NP_115830.1&quot;</td><td>[&quot;2347132&quot;, &quot; 4759180&quot;, … &quot; 825661&quot;]</td><td>&quot;7XRB:A; 7XRB:B; 8YCM:A; 8YCM:B…</td><td>[&quot;GO:0005737&quot;, &quot; GO:0016607&quot;, … &quot; GO:1903518&quot;]</td><td>&quot;UniRef100_P49842&quot;</td><td>&quot;UniRef90_P49842&quot;</td><td>&quot;UniRef50_P49842&quot;</td><td>&quot;UPI000002B442&quot;</td><td>&quot;B53439&quot;</td><td>9606</td><td>&quot;604977&quot;</td><td>null</td><td>[&quot;8012361&quot;, &quot; 8132574&quot;, … &quot; 17344846&quot;]</td><td>[&quot;X77386&quot;, &quot; X77474&quot;, … &quot; U24578&quot;]</td><td>[&quot;CAA54565.1&quot;, &quot; CAA54622.1&quot;, … &quot; AAA99716.1&quot;]</td><td>[&quot;ENSG00000204344.16&quot;, &quot; ENSG00000206342.12&quot;, … &quot; ENSG00000226033.11&quot;]</td><td>[&quot;ENST00000375331.8&quot;, &quot; ENST00000375333.4&quot;, … &quot; ENST00000685781.1&quot;]</td><td>[&quot;ENSP00000364480.4&quot;, &quot; ENSP00000364482.4&quot;, … &quot; ENSP00000509445.1&quot;]</td><td>[&quot;19423540&quot;, &quot; 19851445&quot;, … &quot; 32531245&quot;]</td></tr></tbody></table></div>"
      ],
      "text/plain": [
       "shape: (5, 34)\n",
       "┌────────────┬────────┬──────────┬────────────┬───┬────────────┬───────────┬───────────┬───────────┐\n",
       "│ id         ┆ pdb_id ┆ chain_id ┆ protein_na ┆ … ┆ Ensembl    ┆ Ensembl_T ┆ Ensembl_P ┆ Additiona │\n",
       "│ ---        ┆ ---    ┆ ---      ┆ me         ┆   ┆ ---        ┆ RS        ┆ RO        ┆ l_PubMed  │\n",
       "│ str        ┆ str    ┆ str      ┆ ---        ┆   ┆ list[str]  ┆ ---       ┆ ---       ┆ ---       │\n",
       "│            ┆        ┆          ┆ str        ┆   ┆            ┆ list[str] ┆ list[str] ┆ list[str] │\n",
       "╞════════════╪════════╪══════════╪════════════╪═══╪════════════╪═══════════╪═══════════╪═══════════╡\n",
       "│ 7um4_1_A_B ┆ 7um4   ┆ B        ┆ N/A (from  ┆ … ┆ null       ┆ null      ┆ null      ┆ null      │\n",
       "│            ┆        ┆          ┆ TSV)       ┆   ┆            ┆           ┆           ┆           │\n",
       "│ 1gl2_1_A_C ┆ 1gl2   ┆ C        ┆ N/A (from  ┆ … ┆ null       ┆ null      ┆ null      ┆ [\"1286100 │\n",
       "│            ┆        ┆          ┆ TSV)       ┆   ┆            ┆           ┆           ┆ 6\", \" 156 │\n",
       "│            ┆        ┆          ┆            ┆   ┆            ┆           ┆           ┆ 40147\", … │\n",
       "│            ┆        ┆          ┆            ┆   ┆            ┆           ┆           ┆ \" …       │\n",
       "│ 1gl2_1_C_B ┆ 1gl2   ┆ C        ┆ N/A (from  ┆ … ┆ null       ┆ null      ┆ null      ┆ [\"1286100 │\n",
       "│            ┆        ┆          ┆ TSV)       ┆   ┆            ┆           ┆           ┆ 6\", \" 156 │\n",
       "│            ┆        ┆          ┆            ┆   ┆            ┆           ┆           ┆ 40147\", … │\n",
       "│            ┆        ┆          ┆            ┆   ┆            ┆           ┆           ┆ \" …       │\n",
       "│ 1gl2_1_D_C ┆ 1gl2   ┆ C        ┆ N/A (from  ┆ … ┆ null       ┆ null      ┆ null      ┆ [\"1286100 │\n",
       "│            ┆        ┆          ┆ TSV)       ┆   ┆            ┆           ┆           ┆ 6\", \" 156 │\n",
       "│            ┆        ┆          ┆            ┆   ┆            ┆           ┆           ┆ 40147\", … │\n",
       "│            ┆        ┆          ┆            ┆   ┆            ┆           ┆           ┆ \" …       │\n",
       "│ 7xrb_1_A_B ┆ 7xrb   ┆ A        ┆ N/A (from  ┆ … ┆ [\"ENSG0000 ┆ [\"ENST000 ┆ [\"ENSP000 ┆ [\"1942354 │\n",
       "│            ┆        ┆          ┆ TSV)       ┆   ┆ 0204344.16 ┆ 00375331. ┆ 00364480. ┆ 0\", \" 198 │\n",
       "│            ┆        ┆          ┆            ┆   ┆ \", \"       ┆ 8\", \"     ┆ 4\", \"     ┆ 51445\", … │\n",
       "│            ┆        ┆          ┆            ┆   ┆ ENSG0…     ┆ ENST00…   ┆ ENSP00…   ┆ \" …       │\n",
       "└────────────┴────────┴──────────┴────────────┴───┴────────────┴───────────┴───────────┴───────────┘"
      ]
     },
     "execution_count": 13,
     "metadata": {},
     "output_type": "execute_result"
    }
   ],
   "source": [
    "pp_load = pl.scan_parquet(output / \"PP_extended.parquet\").rename({\"entry_id\": \"id\"})\n",
    "pp_load.head().collect()\n"
   ]
  },
  {
   "cell_type": "code",
   "execution_count": 14,
   "id": "14912d04",
   "metadata": {},
   "outputs": [
    {
     "data": {
      "text/html": [
       "<div><style>\n",
       ".dataframe > thead > tr,\n",
       ".dataframe > tbody > tr {\n",
       "  text-align: right;\n",
       "  white-space: pre-wrap;\n",
       "}\n",
       "</style>\n",
       "<small>shape: (1, 2)</small><table border=\"1\" class=\"dataframe\"><thead><tr><th>id</th><th>graph_embedding</th></tr><tr><td>str</td><td>list[f64]</td></tr></thead><tbody><tr><td>&quot;2kn7_1_A_B&quot;</td><td>[0.000052, 0.000035, … 0.000145]</td></tr></tbody></table></div>"
      ],
      "text/plain": [
       "shape: (1, 2)\n",
       "┌────────────┬─────────────────────────────────┐\n",
       "│ id         ┆ graph_embedding                 │\n",
       "│ ---        ┆ ---                             │\n",
       "│ str        ┆ list[f64]                       │\n",
       "╞════════════╪═════════════════════════════════╡\n",
       "│ 2kn7_1_A_B ┆ [0.000052, 0.000035, … 0.00014… │\n",
       "└────────────┴─────────────────────────────────┘"
      ]
     },
     "execution_count": 14,
     "metadata": {},
     "output_type": "execute_result"
    }
   ],
   "source": [
    "embeddings = pl.scan_parquet(output / \"PP_embeddings.parquet\").select([\"id\", \"graph_embedding\"])\n",
    "embeddings.head(1).collect()"
   ]
  },
  {
   "cell_type": "code",
   "execution_count": 15,
   "id": "c01d7297",
   "metadata": {},
   "outputs": [
    {
     "data": {
      "text/html": [
       "<div><style>\n",
       ".dataframe > thead > tr,\n",
       ".dataframe > tbody > tr {\n",
       "  text-align: right;\n",
       "  white-space: pre-wrap;\n",
       "}\n",
       "</style>\n",
       "<small>shape: (5, 35)</small><table border=\"1\" class=\"dataframe\"><thead><tr><th>id</th><th>pdb_id</th><th>chain_id</th><th>protein_name</th><th>organism</th><th>common_name</th><th>taxonomy_id</th><th>classification</th><th>max_longevity_yrs</th><th>kingdom</th><th>phylum</th><th>uniprot_ids</th><th>UniProtKB_AC</th><th>UniProtKB_ID</th><th>GeneID_EntrezGene</th><th>RefSeq</th><th>GI</th><th>PDB</th><th>GO</th><th>UniRef100</th><th>UniRef90</th><th>UniRef50</th><th>UniParc</th><th>PIR</th><th>NCBI_taxon</th><th>MIM</th><th>UniGene</th><th>PubMed</th><th>EMBL</th><th>EMBL_CDS</th><th>Ensembl</th><th>Ensembl_TRS</th><th>Ensembl_PRO</th><th>Additional_PubMed</th><th>graph_embedding</th></tr><tr><td>str</td><td>str</td><td>str</td><td>str</td><td>str</td><td>str</td><td>i64</td><td>str</td><td>f64</td><td>str</td><td>str</td><td>str</td><td>str</td><td>str</td><td>str</td><td>str</td><td>list[str]</td><td>str</td><td>list[str]</td><td>str</td><td>str</td><td>str</td><td>str</td><td>str</td><td>i64</td><td>str</td><td>str</td><td>list[str]</td><td>list[str]</td><td>list[str]</td><td>list[str]</td><td>list[str]</td><td>list[str]</td><td>list[str]</td><td>list[f64]</td></tr></thead><tbody><tr><td>&quot;7um4_1_A_B&quot;</td><td>&quot;7um4&quot;</td><td>&quot;B&quot;</td><td>&quot;N/A (from TSV)&quot;</td><td>&quot;Home sapiens&quot;</td><td>&quot;Human&quot;</td><td>9606</td><td>&quot;Mammalia&quot;</td><td>122.5</td><td>&quot;Animalia&quot;</td><td>&quot;Chordata&quot;</td><td>&quot;Q9V2J8&quot;</td><td>&quot;Q9V2J8&quot;</td><td>&quot;Q9V2J8_PYRAB&quot;</td><td>null</td><td>&quot;WP_010867201.1&quot;</td><td>[&quot;83754399&quot;, &quot; 283806864&quot;, … &quot; 83754400&quot;]</td><td>&quot;2BFW:A; 2BIS:A; 2BIS:B; 2BIS:C…</td><td>[&quot;GO:0004373&quot;]</td><td>&quot;UniRef100_Q9V2J8&quot;</td><td>&quot;UniRef90_Q9V2J8&quot;</td><td>&quot;UniRef50_C5A4D7&quot;</td><td>&quot;UPI00000346E2&quot;</td><td>&quot;A75194&quot;</td><td>272844</td><td>null</td><td>null</td><td>[&quot;10736225&quot;, &quot; 11381026&quot;, … &quot; 39695122&quot;]</td><td>[&quot;AJ248283&quot;, &quot; HE613800&quot;]</td><td>[&quot;CAB49000.1&quot;, &quot; CCE69451.1&quot;]</td><td>null</td><td>null</td><td>null</td><td>null</td><td>[-0.000011, -0.000071, … -0.000207]</td></tr><tr><td>&quot;1gl2_1_A_C&quot;</td><td>&quot;1gl2&quot;</td><td>&quot;C&quot;</td><td>&quot;N/A (from TSV)&quot;</td><td>&quot;Balb/c mouse&quot;</td><td>&quot;House mouse&quot;</td><td>10090</td><td>&quot;Mammalia&quot;</td><td>4.0</td><td>&quot;Animalia&quot;</td><td>&quot;Chordata&quot;</td><td>&quot;O88384&quot;</td><td>&quot;O88384&quot;</td><td>&quot;VTI1B_MOUSE&quot;</td><td>null</td><td>null</td><td>[&quot;13124606&quot;, &quot; 18655560&quot;, … &quot; 3213229&quot;]</td><td>&quot;1GL2:C; 2QYW:A&quot;</td><td>[&quot;GO:0031901&quot;, &quot; GO:0005794&quot;, … &quot; GO:0016192&quot;]</td><td>&quot;UniRef100_O88384&quot;</td><td>&quot;UniRef90_O88384&quot;</td><td>&quot;UniRef50_O88384&quot;</td><td>&quot;UPI0000029675&quot;</td><td>null</td><td>10090</td><td>null</td><td>null</td><td>[&quot;9553086&quot;, &quot; 15363411&quot;, … &quot; 11786915&quot;]</td><td>[&quot;AF035208&quot;]</td><td>[&quot;AAC23483.1&quot;]</td><td>null</td><td>null</td><td>null</td><td>[&quot;12861006&quot;, &quot; 15640147&quot;, … &quot; 23258225&quot;]</td><td>[-0.000017, -0.00007, … -0.000194]</td></tr><tr><td>&quot;1gl2_1_C_B&quot;</td><td>&quot;1gl2&quot;</td><td>&quot;C&quot;</td><td>&quot;N/A (from TSV)&quot;</td><td>&quot;Balb/c mouse&quot;</td><td>&quot;House mouse&quot;</td><td>10090</td><td>&quot;Mammalia&quot;</td><td>4.0</td><td>&quot;Animalia&quot;</td><td>&quot;Chordata&quot;</td><td>&quot;O88384&quot;</td><td>&quot;O88384&quot;</td><td>&quot;VTI1B_MOUSE&quot;</td><td>null</td><td>null</td><td>[&quot;13124606&quot;, &quot; 18655560&quot;, … &quot; 3213229&quot;]</td><td>&quot;1GL2:C; 2QYW:A&quot;</td><td>[&quot;GO:0031901&quot;, &quot; GO:0005794&quot;, … &quot; GO:0016192&quot;]</td><td>&quot;UniRef100_O88384&quot;</td><td>&quot;UniRef90_O88384&quot;</td><td>&quot;UniRef50_O88384&quot;</td><td>&quot;UPI0000029675&quot;</td><td>null</td><td>10090</td><td>null</td><td>null</td><td>[&quot;9553086&quot;, &quot; 15363411&quot;, … &quot; 11786915&quot;]</td><td>[&quot;AF035208&quot;]</td><td>[&quot;AAC23483.1&quot;]</td><td>null</td><td>null</td><td>null</td><td>[&quot;12861006&quot;, &quot; 15640147&quot;, … &quot; 23258225&quot;]</td><td>[0.000041, 0.000043, … 0.000209]</td></tr><tr><td>&quot;1gl2_1_D_C&quot;</td><td>&quot;1gl2&quot;</td><td>&quot;C&quot;</td><td>&quot;N/A (from TSV)&quot;</td><td>&quot;Balb/c mouse&quot;</td><td>&quot;House mouse&quot;</td><td>10090</td><td>&quot;Mammalia&quot;</td><td>4.0</td><td>&quot;Animalia&quot;</td><td>&quot;Chordata&quot;</td><td>&quot;O88384&quot;</td><td>&quot;O88384&quot;</td><td>&quot;VTI1B_MOUSE&quot;</td><td>null</td><td>null</td><td>[&quot;13124606&quot;, &quot; 18655560&quot;, … &quot; 3213229&quot;]</td><td>&quot;1GL2:C; 2QYW:A&quot;</td><td>[&quot;GO:0031901&quot;, &quot; GO:0005794&quot;, … &quot; GO:0016192&quot;]</td><td>&quot;UniRef100_O88384&quot;</td><td>&quot;UniRef90_O88384&quot;</td><td>&quot;UniRef50_O88384&quot;</td><td>&quot;UPI0000029675&quot;</td><td>null</td><td>10090</td><td>null</td><td>null</td><td>[&quot;9553086&quot;, &quot; 15363411&quot;, … &quot; 11786915&quot;]</td><td>[&quot;AF035208&quot;]</td><td>[&quot;AAC23483.1&quot;]</td><td>null</td><td>null</td><td>null</td><td>[&quot;12861006&quot;, &quot; 15640147&quot;, … &quot; 23258225&quot;]</td><td>[0.000034, 0.000033, … 0.000201]</td></tr><tr><td>&quot;7xrb_1_A_B&quot;</td><td>&quot;7xrb&quot;</td><td>&quot;A&quot;</td><td>&quot;N/A (from TSV)&quot;</td><td>&quot;Home sapiens&quot;</td><td>&quot;Human&quot;</td><td>9606</td><td>&quot;Mammalia&quot;</td><td>122.5</td><td>&quot;Animalia&quot;</td><td>&quot;Chordata&quot;</td><td>&quot;P49842&quot;</td><td>&quot;P49842&quot;</td><td>&quot;WHR1_HUMAN&quot;</td><td>&quot;8859&quot;</td><td>&quot;NP_004188.1; NP_115830.1&quot;</td><td>[&quot;2347132&quot;, &quot; 4759180&quot;, … &quot; 825661&quot;]</td><td>&quot;7XRB:A; 7XRB:B; 8YCM:A; 8YCM:B…</td><td>[&quot;GO:0005737&quot;, &quot; GO:0016607&quot;, … &quot; GO:1903518&quot;]</td><td>&quot;UniRef100_P49842&quot;</td><td>&quot;UniRef90_P49842&quot;</td><td>&quot;UniRef50_P49842&quot;</td><td>&quot;UPI000002B442&quot;</td><td>&quot;B53439&quot;</td><td>9606</td><td>&quot;604977&quot;</td><td>null</td><td>[&quot;8012361&quot;, &quot; 8132574&quot;, … &quot; 17344846&quot;]</td><td>[&quot;X77386&quot;, &quot; X77474&quot;, … &quot; U24578&quot;]</td><td>[&quot;CAA54565.1&quot;, &quot; CAA54622.1&quot;, … &quot; AAA99716.1&quot;]</td><td>[&quot;ENSG00000204344.16&quot;, &quot; ENSG00000206342.12&quot;, … &quot; ENSG00000226033.11&quot;]</td><td>[&quot;ENST00000375331.8&quot;, &quot; ENST00000375333.4&quot;, … &quot; ENST00000685781.1&quot;]</td><td>[&quot;ENSP00000364480.4&quot;, &quot; ENSP00000364482.4&quot;, … &quot; ENSP00000509445.1&quot;]</td><td>[&quot;19423540&quot;, &quot; 19851445&quot;, … &quot; 32531245&quot;]</td><td>[0.000053, 0.000033, … 0.000146]</td></tr></tbody></table></div>"
      ],
      "text/plain": [
       "shape: (5, 35)\n",
       "┌────────────┬────────┬──────────┬────────────┬───┬────────────┬───────────┬───────────┬───────────┐\n",
       "│ id         ┆ pdb_id ┆ chain_id ┆ protein_na ┆ … ┆ Ensembl_TR ┆ Ensembl_P ┆ Additiona ┆ graph_emb │\n",
       "│ ---        ┆ ---    ┆ ---      ┆ me         ┆   ┆ S          ┆ RO        ┆ l_PubMed  ┆ edding    │\n",
       "│ str        ┆ str    ┆ str      ┆ ---        ┆   ┆ ---        ┆ ---       ┆ ---       ┆ ---       │\n",
       "│            ┆        ┆          ┆ str        ┆   ┆ list[str]  ┆ list[str] ┆ list[str] ┆ list[f64] │\n",
       "╞════════════╪════════╪══════════╪════════════╪═══╪════════════╪═══════════╪═══════════╪═══════════╡\n",
       "│ 7um4_1_A_B ┆ 7um4   ┆ B        ┆ N/A (from  ┆ … ┆ null       ┆ null      ┆ null      ┆ [-0.00001 │\n",
       "│            ┆        ┆          ┆ TSV)       ┆   ┆            ┆           ┆           ┆ 1, -0.000 │\n",
       "│            ┆        ┆          ┆            ┆   ┆            ┆           ┆           ┆ 071, …    │\n",
       "│            ┆        ┆          ┆            ┆   ┆            ┆           ┆           ┆ -0.00…    │\n",
       "│ 1gl2_1_A_C ┆ 1gl2   ┆ C        ┆ N/A (from  ┆ … ┆ null       ┆ null      ┆ [\"1286100 ┆ [-0.00001 │\n",
       "│            ┆        ┆          ┆ TSV)       ┆   ┆            ┆           ┆ 6\", \" 156 ┆ 7,        │\n",
       "│            ┆        ┆          ┆            ┆   ┆            ┆           ┆ 40147\", … ┆ -0.00007, │\n",
       "│            ┆        ┆          ┆            ┆   ┆            ┆           ┆ \" …       ┆ … -0.000… │\n",
       "│ 1gl2_1_C_B ┆ 1gl2   ┆ C        ┆ N/A (from  ┆ … ┆ null       ┆ null      ┆ [\"1286100 ┆ [0.000041 │\n",
       "│            ┆        ┆          ┆ TSV)       ┆   ┆            ┆           ┆ 6\", \" 156 ┆ ,         │\n",
       "│            ┆        ┆          ┆            ┆   ┆            ┆           ┆ 40147\", … ┆ 0.000043, │\n",
       "│            ┆        ┆          ┆            ┆   ┆            ┆           ┆ \" …       ┆ …         │\n",
       "│            ┆        ┆          ┆            ┆   ┆            ┆           ┆           ┆ 0.00020…  │\n",
       "│ 1gl2_1_D_C ┆ 1gl2   ┆ C        ┆ N/A (from  ┆ … ┆ null       ┆ null      ┆ [\"1286100 ┆ [0.000034 │\n",
       "│            ┆        ┆          ┆ TSV)       ┆   ┆            ┆           ┆ 6\", \" 156 ┆ ,         │\n",
       "│            ┆        ┆          ┆            ┆   ┆            ┆           ┆ 40147\", … ┆ 0.000033, │\n",
       "│            ┆        ┆          ┆            ┆   ┆            ┆           ┆ \" …       ┆ …         │\n",
       "│            ┆        ┆          ┆            ┆   ┆            ┆           ┆           ┆ 0.00020…  │\n",
       "│ 7xrb_1_A_B ┆ 7xrb   ┆ A        ┆ N/A (from  ┆ … ┆ [\"ENST0000 ┆ [\"ENSP000 ┆ [\"1942354 ┆ [0.000053 │\n",
       "│            ┆        ┆          ┆ TSV)       ┆   ┆ 0375331.8\" ┆ 00364480. ┆ 0\", \" 198 ┆ ,         │\n",
       "│            ┆        ┆          ┆            ┆   ┆ , \"        ┆ 4\", \"     ┆ 51445\", … ┆ 0.000033, │\n",
       "│            ┆        ┆          ┆            ┆   ┆ ENST00…    ┆ ENSP00…   ┆ \" …       ┆ …         │\n",
       "│            ┆        ┆          ┆            ┆   ┆            ┆           ┆           ┆ 0.00014…  │\n",
       "└────────────┴────────┴──────────┴────────────┴───┴────────────┴───────────┴───────────┴───────────┘"
      ]
     },
     "execution_count": 15,
     "metadata": {},
     "output_type": "execute_result"
    }
   ],
   "source": [
    "graph_embeddings = pp_load.join(embeddings, on=\"id\")\n",
    "graph_embeddings.head().collect()"
   ]
  },
  {
   "cell_type": "code",
   "execution_count": 16,
   "id": "358b9a46",
   "metadata": {},
   "outputs": [],
   "source": [
    "graph_embeddings.sink_parquet(output / \"PP_graph_embeddings.parquet\")"
   ]
  },
  {
   "cell_type": "code",
   "execution_count": 17,
   "id": "80bf1900",
   "metadata": {},
   "outputs": [
    {
     "data": {
      "text/html": [
       "<div><style>\n",
       ".dataframe > thead > tr,\n",
       ".dataframe > tbody > tr {\n",
       "  text-align: right;\n",
       "  white-space: pre-wrap;\n",
       "}\n",
       "</style>\n",
       "<small>shape: (1, 34)</small><table border=\"1\" class=\"dataframe\"><thead><tr><th>id</th><th>pdb_id</th><th>chain_id</th><th>protein_name</th><th>organism</th><th>common_name</th><th>taxonomy_id</th><th>classification</th><th>max_longevity_yrs</th><th>kingdom</th><th>phylum</th><th>uniprot_ids</th><th>UniProtKB_AC</th><th>UniProtKB_ID</th><th>GeneID_EntrezGene</th><th>RefSeq</th><th>GI</th><th>PDB</th><th>GO</th><th>UniRef100</th><th>UniRef90</th><th>UniRef50</th><th>UniParc</th><th>PIR</th><th>NCBI_taxon</th><th>MIM</th><th>UniGene</th><th>PubMed</th><th>EMBL</th><th>EMBL_CDS</th><th>Ensembl</th><th>Ensembl_TRS</th><th>Ensembl_PRO</th><th>Additional_PubMed</th></tr><tr><td>u32</td><td>u32</td><td>u32</td><td>u32</td><td>u32</td><td>u32</td><td>u32</td><td>u32</td><td>u32</td><td>u32</td><td>u32</td><td>u32</td><td>u32</td><td>u32</td><td>u32</td><td>u32</td><td>u32</td><td>u32</td><td>u32</td><td>u32</td><td>u32</td><td>u32</td><td>u32</td><td>u32</td><td>u32</td><td>u32</td><td>u32</td><td>u32</td><td>u32</td><td>u32</td><td>u32</td><td>u32</td><td>u32</td><td>u32</td></tr></thead><tbody><tr><td>59917</td><td>59917</td><td>59917</td><td>59917</td><td>59917</td><td>59917</td><td>59917</td><td>59917</td><td>59779</td><td>59917</td><td>59917</td><td>59917</td><td>59917</td><td>59917</td><td>55936</td><td>57248</td><td>59812</td><td>59808</td><td>59611</td><td>59917</td><td>59917</td><td>59917</td><td>59917</td><td>39714</td><td>59917</td><td>31595</td><td>0</td><td>59859</td><td>59200</td><td>59200</td><td>37695</td><td>37695</td><td>37695</td><td>57275</td></tr></tbody></table></div>"
      ],
      "text/plain": [
       "shape: (1, 34)\n",
       "┌───────┬────────┬──────────┬──────────────┬───┬─────────┬─────────────┬─────────────┬─────────────┐\n",
       "│ id    ┆ pdb_id ┆ chain_id ┆ protein_name ┆ … ┆ Ensembl ┆ Ensembl_TRS ┆ Ensembl_PRO ┆ Additional_ │\n",
       "│ ---   ┆ ---    ┆ ---      ┆ ---          ┆   ┆ ---     ┆ ---         ┆ ---         ┆ PubMed      │\n",
       "│ u32   ┆ u32    ┆ u32      ┆ u32          ┆   ┆ u32     ┆ u32         ┆ u32         ┆ ---         │\n",
       "│       ┆        ┆          ┆              ┆   ┆         ┆             ┆             ┆ u32         │\n",
       "╞═══════╪════════╪══════════╪══════════════╪═══╪═════════╪═════════════╪═════════════╪═════════════╡\n",
       "│ 59917 ┆ 59917  ┆ 59917    ┆ 59917        ┆ … ┆ 37695   ┆ 37695       ┆ 37695       ┆ 57275       │\n",
       "└───────┴────────┴──────────┴──────────────┴───┴─────────┴─────────────┴─────────────┴─────────────┘"
      ]
     },
     "execution_count": 17,
     "metadata": {},
     "output_type": "execute_result"
    }
   ],
   "source": [
    "pp_load.count().collect()"
   ]
  },
  {
   "cell_type": "code",
   "execution_count": 18,
   "id": "e27d8830",
   "metadata": {},
   "outputs": [
    {
     "data": {
      "text/html": [
       "<div><style>\n",
       ".dataframe > thead > tr,\n",
       ".dataframe > tbody > tr {\n",
       "  text-align: right;\n",
       "  white-space: pre-wrap;\n",
       "}\n",
       "</style>\n",
       "<small>shape: (1, 35)</small><table border=\"1\" class=\"dataframe\"><thead><tr><th>id</th><th>pdb_id</th><th>chain_id</th><th>protein_name</th><th>organism</th><th>common_name</th><th>taxonomy_id</th><th>classification</th><th>max_longevity_yrs</th><th>kingdom</th><th>phylum</th><th>uniprot_ids</th><th>UniProtKB_AC</th><th>UniProtKB_ID</th><th>GeneID_EntrezGene</th><th>RefSeq</th><th>GI</th><th>PDB</th><th>GO</th><th>UniRef100</th><th>UniRef90</th><th>UniRef50</th><th>UniParc</th><th>PIR</th><th>NCBI_taxon</th><th>MIM</th><th>UniGene</th><th>PubMed</th><th>EMBL</th><th>EMBL_CDS</th><th>Ensembl</th><th>Ensembl_TRS</th><th>Ensembl_PRO</th><th>Additional_PubMed</th><th>graph_embedding</th></tr><tr><td>u32</td><td>u32</td><td>u32</td><td>u32</td><td>u32</td><td>u32</td><td>u32</td><td>u32</td><td>u32</td><td>u32</td><td>u32</td><td>u32</td><td>u32</td><td>u32</td><td>u32</td><td>u32</td><td>u32</td><td>u32</td><td>u32</td><td>u32</td><td>u32</td><td>u32</td><td>u32</td><td>u32</td><td>u32</td><td>u32</td><td>u32</td><td>u32</td><td>u32</td><td>u32</td><td>u32</td><td>u32</td><td>u32</td><td>u32</td><td>u32</td></tr></thead><tbody><tr><td>59385</td><td>59385</td><td>59385</td><td>59385</td><td>59385</td><td>59385</td><td>59385</td><td>59385</td><td>59247</td><td>59385</td><td>59385</td><td>59385</td><td>59385</td><td>59385</td><td>55440</td><td>56734</td><td>59288</td><td>59276</td><td>59091</td><td>59385</td><td>59385</td><td>59385</td><td>59385</td><td>39365</td><td>59385</td><td>31344</td><td>0</td><td>59327</td><td>58676</td><td>58676</td><td>37404</td><td>37404</td><td>37404</td><td>56783</td><td>59385</td></tr></tbody></table></div>"
      ],
      "text/plain": [
       "shape: (1, 35)\n",
       "┌───────┬────────┬──────────┬─────────────┬───┬─────────────┬────────────┬────────────┬────────────┐\n",
       "│ id    ┆ pdb_id ┆ chain_id ┆ protein_nam ┆ … ┆ Ensembl_TRS ┆ Ensembl_PR ┆ Additional ┆ graph_embe │\n",
       "│ ---   ┆ ---    ┆ ---      ┆ e           ┆   ┆ ---         ┆ O          ┆ _PubMed    ┆ dding      │\n",
       "│ u32   ┆ u32    ┆ u32      ┆ ---         ┆   ┆ u32         ┆ ---        ┆ ---        ┆ ---        │\n",
       "│       ┆        ┆          ┆ u32         ┆   ┆             ┆ u32        ┆ u32        ┆ u32        │\n",
       "╞═══════╪════════╪══════════╪═════════════╪═══╪═════════════╪════════════╪════════════╪════════════╡\n",
       "│ 59385 ┆ 59385  ┆ 59385    ┆ 59385       ┆ … ┆ 37404       ┆ 37404      ┆ 56783      ┆ 59385      │\n",
       "└───────┴────────┴──────────┴─────────────┴───┴─────────────┴────────────┴────────────┴────────────┘"
      ]
     },
     "execution_count": 18,
     "metadata": {},
     "output_type": "execute_result"
    }
   ],
   "source": [
    "graph_embeddings.count().collect()"
   ]
  },
  {
   "cell_type": "code",
   "execution_count": 30,
   "id": "83328f2c",
   "metadata": {},
   "outputs": [],
   "source": [
    "graph_embeddings.drop(pl.col(\"protein_name\")).sink_parquet(output / \"PP_graph_embeddings.parquet\")"
   ]
  },
  {
   "cell_type": "code",
   "execution_count": 6,
   "id": "d85324a3",
   "metadata": {},
   "outputs": [
    {
     "data": {
      "text/html": [
       "<div><style>\n",
       ".dataframe > thead > tr,\n",
       ".dataframe > tbody > tr {\n",
       "  text-align: right;\n",
       "  white-space: pre-wrap;\n",
       "}\n",
       "</style>\n",
       "<small>shape: (5, 39)</small><table border=\"1\" class=\"dataframe\"><thead><tr><th>id</th><th>pdb_id</th><th>chain_id</th><th>organism</th><th>common_name</th><th>taxonomy_id</th><th>classification</th><th>max_longevity_yrs</th><th>kingdom</th><th>phylum</th><th>uniprot_ids</th><th>UniProtKB_AC</th><th>UniProtKB_ID</th><th>GeneID_EntrezGene</th><th>RefSeq</th><th>GI</th><th>PDB</th><th>GO</th><th>UniRef100</th><th>UniRef90</th><th>UniRef50</th><th>UniParc</th><th>PIR</th><th>NCBI_taxon</th><th>MIM</th><th>UniGene</th><th>PubMed</th><th>EMBL</th><th>EMBL_CDS</th><th>Ensembl</th><th>Ensembl_TRS</th><th>Ensembl_PRO</th><th>Additional_PubMed</th><th>graph_embedding</th><th>uniprot_protein_names</th><th>uniprot_gene_names</th><th>uniprot_organism_name</th><th>primary_gene_name</th><th>ensembl_id</th></tr><tr><td>str</td><td>str</td><td>str</td><td>str</td><td>str</td><td>i64</td><td>str</td><td>f64</td><td>str</td><td>str</td><td>str</td><td>str</td><td>str</td><td>str</td><td>str</td><td>list[str]</td><td>str</td><td>list[str]</td><td>str</td><td>str</td><td>str</td><td>str</td><td>str</td><td>i64</td><td>str</td><td>str</td><td>list[str]</td><td>list[str]</td><td>list[str]</td><td>list[str]</td><td>list[str]</td><td>list[str]</td><td>list[str]</td><td>list[f64]</td><td>str</td><td>str</td><td>str</td><td>str</td><td>str</td></tr></thead><tbody><tr><td>&quot;2vhh_1_G_D&quot;</td><td>&quot;2vhh&quot;</td><td>&quot;D&quot;</td><td>&quot;Drosophila melangaster&quot;</td><td>&quot;Fruit fly&quot;</td><td>7227</td><td>&quot;Insecta&quot;</td><td>0.3</td><td>&quot;Animalia&quot;</td><td>&quot;Arthropoda&quot;</td><td>&quot;Q9VI04&quot;</td><td>&quot;Q9VI04&quot;</td><td>&quot;Q9VI04_DROME&quot;</td><td>&quot;40916&quot;</td><td>&quot;NP_649732.1&quot;</td><td>[&quot;21358471&quot;, &quot; 170785054&quot;, … &quot; 170785060&quot;]</td><td>&quot;2VHH:A; 2VHH:B; 2VHH:C; 2VHH:D…</td><td>[&quot;GO:0005737&quot;, &quot; GO:0003837&quot;, … &quot; GO:0006208&quot;]</td><td>&quot;UniRef100_Q9VI04&quot;</td><td>&quot;UniRef90_Q9VI04&quot;</td><td>&quot;UniRef50_Q8H183&quot;</td><td>&quot;UPI000007A458&quot;</td><td>null</td><td>7227</td><td>null</td><td>null</td><td>[&quot;10731132&quot;, &quot; 11454750&quot;, … &quot; 25589440&quot;]</td><td>[&quot;AE014297&quot;, &quot; AF333187&quot;]</td><td>[&quot;AAF54141.2&quot;, &quot; AAK60520.1&quot;]</td><td>null</td><td>null</td><td>null</td><td>[&quot;14630943&quot;, &quot; 16361227&quot;, … &quot; 28562601&quot;]</td><td>[0.000061, 0.000042, … 0.000181]</td><td>null</td><td>null</td><td>null</td><td>&quot;pyd3&quot;</td><td>null</td></tr><tr><td>&quot;2vhh_1_D_C&quot;</td><td>&quot;2vhh&quot;</td><td>&quot;D&quot;</td><td>&quot;Drosophila melangaster&quot;</td><td>&quot;Fruit fly&quot;</td><td>7227</td><td>&quot;Insecta&quot;</td><td>0.3</td><td>&quot;Animalia&quot;</td><td>&quot;Arthropoda&quot;</td><td>&quot;Q9VI04&quot;</td><td>&quot;Q9VI04&quot;</td><td>&quot;Q9VI04_DROME&quot;</td><td>&quot;40916&quot;</td><td>&quot;NP_649732.1&quot;</td><td>[&quot;21358471&quot;, &quot; 170785054&quot;, … &quot; 170785060&quot;]</td><td>&quot;2VHH:A; 2VHH:B; 2VHH:C; 2VHH:D…</td><td>[&quot;GO:0005737&quot;, &quot; GO:0003837&quot;, … &quot; GO:0006208&quot;]</td><td>&quot;UniRef100_Q9VI04&quot;</td><td>&quot;UniRef90_Q9VI04&quot;</td><td>&quot;UniRef50_Q8H183&quot;</td><td>&quot;UPI000007A458&quot;</td><td>null</td><td>7227</td><td>null</td><td>null</td><td>[&quot;10731132&quot;, &quot; 11454750&quot;, … &quot; 25589440&quot;]</td><td>[&quot;AE014297&quot;, &quot; AF333187&quot;]</td><td>[&quot;AAF54141.2&quot;, &quot; AAK60520.1&quot;]</td><td>null</td><td>null</td><td>null</td><td>[&quot;14630943&quot;, &quot; 16361227&quot;, … &quot; 28562601&quot;]</td><td>[0.000055, 0.000057, … 0.000212]</td><td>null</td><td>null</td><td>null</td><td>&quot;pyd3&quot;</td><td>null</td></tr><tr><td>&quot;2vhh_1_D_C&quot;</td><td>&quot;2vhh&quot;</td><td>&quot;C&quot;</td><td>&quot;Drosophila melangaster&quot;</td><td>&quot;Fruit fly&quot;</td><td>7227</td><td>&quot;Insecta&quot;</td><td>0.3</td><td>&quot;Animalia&quot;</td><td>&quot;Arthropoda&quot;</td><td>&quot;Q9VI04&quot;</td><td>&quot;Q9VI04&quot;</td><td>&quot;Q9VI04_DROME&quot;</td><td>&quot;40916&quot;</td><td>&quot;NP_649732.1&quot;</td><td>[&quot;21358471&quot;, &quot; 170785054&quot;, … &quot; 170785060&quot;]</td><td>&quot;2VHH:A; 2VHH:B; 2VHH:C; 2VHH:D…</td><td>[&quot;GO:0005737&quot;, &quot; GO:0003837&quot;, … &quot; GO:0006208&quot;]</td><td>&quot;UniRef100_Q9VI04&quot;</td><td>&quot;UniRef90_Q9VI04&quot;</td><td>&quot;UniRef50_Q8H183&quot;</td><td>&quot;UPI000007A458&quot;</td><td>null</td><td>7227</td><td>null</td><td>null</td><td>[&quot;10731132&quot;, &quot; 11454750&quot;, … &quot; 25589440&quot;]</td><td>[&quot;AE014297&quot;, &quot; AF333187&quot;]</td><td>[&quot;AAF54141.2&quot;, &quot; AAK60520.1&quot;]</td><td>null</td><td>null</td><td>null</td><td>[&quot;14630943&quot;, &quot; 16361227&quot;, … &quot; 28562601&quot;]</td><td>[0.000055, 0.000057, … 0.000212]</td><td>null</td><td>null</td><td>null</td><td>&quot;pyd3&quot;</td><td>null</td></tr><tr><td>&quot;5noo_1_A_B&quot;</td><td>&quot;5noo&quot;</td><td>&quot;A&quot;</td><td>&quot;Caenorhabditis elegans&quot;</td><td>&quot;Roundworm&quot;</td><td>6239</td><td>&quot;Chromadorea&quot;</td><td>0.16</td><td>&quot;Animalia&quot;</td><td>&quot;Nematoda&quot;</td><td>&quot;Q9Y052&quot;</td><td>&quot;Q9Y052&quot;</td><td>&quot;Q9Y052_CAEEL&quot;</td><td>null</td><td>null</td><td>[&quot;757819114&quot;, &quot; 576865043&quot;, … &quot; 4039150&quot;]</td><td>&quot;4IQB:A; 4IQB:B; 4IRR:A; 4IRR:B…</td><td>[&quot;GO:0004799&quot;, &quot; GO:0006231&quot;, … &quot; GO:0032259&quot;]</td><td>&quot;UniRef100_Q9Y052&quot;</td><td>&quot;UniRef90_Q9Y052&quot;</td><td>&quot;UniRef50_A0A3B5LXK2&quot;</td><td>&quot;UPI0000081F72&quot;</td><td>&quot;T52178&quot;</td><td>6239</td><td>null</td><td>null</td><td>[&quot;24321279&quot;, &quot; 28826032&quot;]</td><td>[&quot;AF099673&quot;]</td><td>[&quot;AAC97508.1&quot;]</td><td>null</td><td>null</td><td>null</td><td>null</td><td>[0.000055, 0.000052, … 0.000191]</td><td>null</td><td>null</td><td>null</td><td>null</td><td>null</td></tr><tr><td>&quot;5noo_1_A_B&quot;</td><td>&quot;5noo&quot;</td><td>&quot;B&quot;</td><td>&quot;Caenorhabditis elegans&quot;</td><td>&quot;Roundworm&quot;</td><td>6239</td><td>&quot;Chromadorea&quot;</td><td>0.16</td><td>&quot;Animalia&quot;</td><td>&quot;Nematoda&quot;</td><td>&quot;Q9Y052&quot;</td><td>&quot;Q9Y052&quot;</td><td>&quot;Q9Y052_CAEEL&quot;</td><td>null</td><td>null</td><td>[&quot;757819114&quot;, &quot; 576865043&quot;, … &quot; 4039150&quot;]</td><td>&quot;4IQB:A; 4IQB:B; 4IRR:A; 4IRR:B…</td><td>[&quot;GO:0004799&quot;, &quot; GO:0006231&quot;, … &quot; GO:0032259&quot;]</td><td>&quot;UniRef100_Q9Y052&quot;</td><td>&quot;UniRef90_Q9Y052&quot;</td><td>&quot;UniRef50_A0A3B5LXK2&quot;</td><td>&quot;UPI0000081F72&quot;</td><td>&quot;T52178&quot;</td><td>6239</td><td>null</td><td>null</td><td>[&quot;24321279&quot;, &quot; 28826032&quot;]</td><td>[&quot;AF099673&quot;]</td><td>[&quot;AAC97508.1&quot;]</td><td>null</td><td>null</td><td>null</td><td>null</td><td>[0.000055, 0.000052, … 0.000191]</td><td>null</td><td>null</td><td>null</td><td>null</td><td>null</td></tr></tbody></table></div>"
      ],
      "text/plain": [
       "shape: (5, 39)\n",
       "┌────────────┬────────┬──────────┬────────────┬───┬────────────┬───────────┬───────────┬───────────┐\n",
       "│ id         ┆ pdb_id ┆ chain_id ┆ organism   ┆ … ┆ uniprot_ge ┆ uniprot_o ┆ primary_g ┆ ensembl_i │\n",
       "│ ---        ┆ ---    ┆ ---      ┆ ---        ┆   ┆ ne_names   ┆ rganism_n ┆ ene_name  ┆ d         │\n",
       "│ str        ┆ str    ┆ str      ┆ str        ┆   ┆ ---        ┆ ame       ┆ ---       ┆ ---       │\n",
       "│            ┆        ┆          ┆            ┆   ┆ str        ┆ ---       ┆ str       ┆ str       │\n",
       "│            ┆        ┆          ┆            ┆   ┆            ┆ str       ┆           ┆           │\n",
       "╞════════════╪════════╪══════════╪════════════╪═══╪════════════╪═══════════╪═══════════╪═══════════╡\n",
       "│ 2vhh_1_G_D ┆ 2vhh   ┆ D        ┆ Drosophila ┆ … ┆ null       ┆ null      ┆ pyd3      ┆ null      │\n",
       "│            ┆        ┆          ┆ melangaste ┆   ┆            ┆           ┆           ┆           │\n",
       "│            ┆        ┆          ┆ r          ┆   ┆            ┆           ┆           ┆           │\n",
       "│ 2vhh_1_D_C ┆ 2vhh   ┆ D        ┆ Drosophila ┆ … ┆ null       ┆ null      ┆ pyd3      ┆ null      │\n",
       "│            ┆        ┆          ┆ melangaste ┆   ┆            ┆           ┆           ┆           │\n",
       "│            ┆        ┆          ┆ r          ┆   ┆            ┆           ┆           ┆           │\n",
       "│ 2vhh_1_D_C ┆ 2vhh   ┆ C        ┆ Drosophila ┆ … ┆ null       ┆ null      ┆ pyd3      ┆ null      │\n",
       "│            ┆        ┆          ┆ melangaste ┆   ┆            ┆           ┆           ┆           │\n",
       "│            ┆        ┆          ┆ r          ┆   ┆            ┆           ┆           ┆           │\n",
       "│ 5noo_1_A_B ┆ 5noo   ┆ A        ┆ Caenorhabd ┆ … ┆ null       ┆ null      ┆ null      ┆ null      │\n",
       "│            ┆        ┆          ┆ itis       ┆   ┆            ┆           ┆           ┆           │\n",
       "│            ┆        ┆          ┆ elegans    ┆   ┆            ┆           ┆           ┆           │\n",
       "│ 5noo_1_A_B ┆ 5noo   ┆ B        ┆ Caenorhabd ┆ … ┆ null       ┆ null      ┆ null      ┆ null      │\n",
       "│            ┆        ┆          ┆ itis       ┆   ┆            ┆           ┆           ┆           │\n",
       "│            ┆        ┆          ┆ elegans    ┆   ┆            ┆           ┆           ┆           │\n",
       "└────────────┴────────┴──────────┴────────────┴───┴────────────┴───────────┴───────────┴───────────┘"
      ]
     },
     "execution_count": 6,
     "metadata": {},
     "output_type": "execute_result"
    }
   ],
   "source": [
    "pp_advanced = pl.read_parquet( output / \"PP_advanced.parquet\")\n",
    "pp_advanced.head()"
   ]
  },
  {
   "cell_type": "code",
   "execution_count": 10,
   "id": "1448113b",
   "metadata": {},
   "outputs": [
    {
     "data": {
      "text/html": [
       "<div><style>\n",
       ".dataframe > thead > tr,\n",
       ".dataframe > tbody > tr {\n",
       "  text-align: right;\n",
       "  white-space: pre-wrap;\n",
       "}\n",
       "</style>\n",
       "<small>shape: (17_117, 39)</small><table border=\"1\" class=\"dataframe\"><thead><tr><th>id</th><th>pdb_id</th><th>chain_id</th><th>organism</th><th>common_name</th><th>taxonomy_id</th><th>classification</th><th>max_longevity_yrs</th><th>kingdom</th><th>phylum</th><th>uniprot_ids</th><th>UniProtKB_AC</th><th>UniProtKB_ID</th><th>GeneID_EntrezGene</th><th>RefSeq</th><th>GI</th><th>PDB</th><th>GO</th><th>UniRef100</th><th>UniRef90</th><th>UniRef50</th><th>UniParc</th><th>PIR</th><th>NCBI_taxon</th><th>MIM</th><th>UniGene</th><th>PubMed</th><th>EMBL</th><th>EMBL_CDS</th><th>Ensembl</th><th>Ensembl_TRS</th><th>Ensembl_PRO</th><th>Additional_PubMed</th><th>graph_embedding</th><th>uniprot_protein_names</th><th>uniprot_gene_names</th><th>uniprot_organism_name</th><th>primary_gene_name</th><th>ensembl_id</th></tr><tr><td>str</td><td>str</td><td>str</td><td>str</td><td>str</td><td>i64</td><td>str</td><td>f64</td><td>str</td><td>str</td><td>str</td><td>str</td><td>str</td><td>str</td><td>str</td><td>list[str]</td><td>str</td><td>list[str]</td><td>str</td><td>str</td><td>str</td><td>str</td><td>str</td><td>i64</td><td>str</td><td>str</td><td>list[str]</td><td>list[str]</td><td>list[str]</td><td>list[str]</td><td>list[str]</td><td>list[str]</td><td>list[str]</td><td>list[f64]</td><td>str</td><td>str</td><td>str</td><td>str</td><td>str</td></tr></thead><tbody><tr><td>&quot;6v9w_1_A_B&quot;</td><td>&quot;6v9w&quot;</td><td>&quot;A&quot;</td><td>&quot;Home sapiens&quot;</td><td>&quot;Human&quot;</td><td>9606</td><td>&quot;Mammalia&quot;</td><td>122.5</td><td>&quot;Animalia&quot;</td><td>&quot;Chordata&quot;</td><td>&quot;O75762&quot;</td><td>&quot;O75762&quot;</td><td>&quot;TRPA1_HUMAN&quot;</td><td>&quot;8989&quot;</td><td>&quot;NP_015628.2; XP_011515927.1; X…</td><td>[&quot;806393917&quot;, &quot; 806393916&quot;, … &quot; 3287188&quot;]</td><td>&quot;3J9P:A; 3J9P:B; 3J9P:C; 3J9P:D…</td><td>[&quot;GO:0016324&quot;, &quot; GO:0030424&quot;, … &quot; GO:0014832&quot;]</td><td>&quot;UniRef100_O75762&quot;</td><td>&quot;UniRef90_O75762&quot;</td><td>&quot;UniRef50_O75762&quot;</td><td>&quot;UPI000021081A&quot;</td><td>null</td><td>9606</td><td>&quot;604775; 615040&quot;</td><td>null</td><td>[&quot;10066796&quot;, &quot; 16421571&quot;, … &quot; 20547126&quot;]</td><td>[&quot;Y10601&quot;, &quot; AC022867&quot;]</td><td>[&quot;CAA71610.1&quot;, &quot; -&quot;]</td><td>[&quot;ENSG00000104321.11&quot;]</td><td>[&quot;ENST00000262209.5&quot;]</td><td>[&quot;ENSP00000262209.4&quot;]</td><td>[&quot;14712238&quot;, &quot; 16500080&quot;, … &quot; 20716668&quot;]</td><td>[0.000044, 0.000054, … 0.000227]</td><td>&quot;Transient receptor potential c…</td><td>&quot;TRPA1 ANKTM1&quot;</td><td>&quot;Homo sapiens (Human)&quot;</td><td>&quot;TRPA1&quot;</td><td>&quot;ENSG00000104321.11&quot;</td></tr><tr><td>&quot;6v9w_1_A_B&quot;</td><td>&quot;6v9w&quot;</td><td>&quot;B&quot;</td><td>&quot;Home sapiens&quot;</td><td>&quot;Human&quot;</td><td>9606</td><td>&quot;Mammalia&quot;</td><td>122.5</td><td>&quot;Animalia&quot;</td><td>&quot;Chordata&quot;</td><td>&quot;O75762&quot;</td><td>&quot;O75762&quot;</td><td>&quot;TRPA1_HUMAN&quot;</td><td>&quot;8989&quot;</td><td>&quot;NP_015628.2; XP_011515927.1; X…</td><td>[&quot;806393917&quot;, &quot; 806393916&quot;, … &quot; 3287188&quot;]</td><td>&quot;3J9P:A; 3J9P:B; 3J9P:C; 3J9P:D…</td><td>[&quot;GO:0016324&quot;, &quot; GO:0030424&quot;, … &quot; GO:0014832&quot;]</td><td>&quot;UniRef100_O75762&quot;</td><td>&quot;UniRef90_O75762&quot;</td><td>&quot;UniRef50_O75762&quot;</td><td>&quot;UPI000021081A&quot;</td><td>null</td><td>9606</td><td>&quot;604775; 615040&quot;</td><td>null</td><td>[&quot;10066796&quot;, &quot; 16421571&quot;, … &quot; 20547126&quot;]</td><td>[&quot;Y10601&quot;, &quot; AC022867&quot;]</td><td>[&quot;CAA71610.1&quot;, &quot; -&quot;]</td><td>[&quot;ENSG00000104321.11&quot;]</td><td>[&quot;ENST00000262209.5&quot;]</td><td>[&quot;ENSP00000262209.4&quot;]</td><td>[&quot;14712238&quot;, &quot; 16500080&quot;, … &quot; 20716668&quot;]</td><td>[0.000044, 0.000054, … 0.000227]</td><td>&quot;Transient receptor potential c…</td><td>&quot;TRPA1 ANKTM1&quot;</td><td>&quot;Homo sapiens (Human)&quot;</td><td>&quot;TRPA1&quot;</td><td>&quot;ENSG00000104321.11&quot;</td></tr><tr><td>&quot;6zfx_1_G_H&quot;</td><td>&quot;6zfx&quot;</td><td>&quot;G&quot;</td><td>&quot;Home sapiens&quot;</td><td>&quot;Human&quot;</td><td>9606</td><td>&quot;Mammalia&quot;</td><td>122.5</td><td>&quot;Animalia&quot;</td><td>&quot;Chordata&quot;</td><td>&quot;Q6SZW1&quot;</td><td>&quot;Q6SZW1&quot;</td><td>&quot;SARM1_HUMAN&quot;</td><td>&quot;23098&quot;</td><td>&quot;NP_055892.2&quot;</td><td>[&quot;83288284&quot;, &quot; 7711002&quot;, … &quot; 154090976&quot;]</td><td>&quot;6O0Q:A; 6O0Q:B; 6O0R:A; 6O0R:B…</td><td>[&quot;GO:0030424&quot;, &quot; GO:0009986&quot;, … &quot; GO:0007165&quot;]</td><td>&quot;UniRef100_Q6SZW1&quot;</td><td>&quot;UniRef90_Q6SZW1&quot;</td><td>&quot;UniRef50_Q6SZW1&quot;</td><td>&quot;UPI000021FB54&quot;</td><td>null</td><td>9606</td><td>&quot;607732&quot;</td><td>null</td><td>[&quot;11386760&quot;, &quot; 9628581&quot;, … &quot; 33053563&quot;]</td><td>[&quot;AJ290445&quot;, &quot; AY444166&quot;, &quot; AB011096&quot;]</td><td>[&quot;CAB90355.1&quot;, &quot; AAR17520.1&quot;, &quot; BAA25450.1&quot;]</td><td>[&quot;ENSG00000004139.14&quot;]</td><td>[&quot;ENST00000585482.6&quot;]</td><td>[&quot;ENSP00000468032.2&quot;]</td><td>[&quot;15893701&quot;, &quot; 17804407&quot;, … &quot; 16306936&quot;]</td><td>[0.000058, 0.000053, … 0.0002]</td><td>&quot;NAD(+) hydrolase SARM1 (NADase…</td><td>&quot;SARM1 KIAA0524 SAMD2 SARM&quot;</td><td>&quot;Homo sapiens (Human)&quot;</td><td>&quot;SARM1&quot;</td><td>&quot;ENSG00000004139.14&quot;</td></tr><tr><td>&quot;6zfx_1_G_H&quot;</td><td>&quot;6zfx&quot;</td><td>&quot;H&quot;</td><td>&quot;Home sapiens&quot;</td><td>&quot;Human&quot;</td><td>9606</td><td>&quot;Mammalia&quot;</td><td>122.5</td><td>&quot;Animalia&quot;</td><td>&quot;Chordata&quot;</td><td>&quot;Q6SZW1&quot;</td><td>&quot;Q6SZW1&quot;</td><td>&quot;SARM1_HUMAN&quot;</td><td>&quot;23098&quot;</td><td>&quot;NP_055892.2&quot;</td><td>[&quot;83288284&quot;, &quot; 7711002&quot;, … &quot; 154090976&quot;]</td><td>&quot;6O0Q:A; 6O0Q:B; 6O0R:A; 6O0R:B…</td><td>[&quot;GO:0030424&quot;, &quot; GO:0009986&quot;, … &quot; GO:0007165&quot;]</td><td>&quot;UniRef100_Q6SZW1&quot;</td><td>&quot;UniRef90_Q6SZW1&quot;</td><td>&quot;UniRef50_Q6SZW1&quot;</td><td>&quot;UPI000021FB54&quot;</td><td>null</td><td>9606</td><td>&quot;607732&quot;</td><td>null</td><td>[&quot;11386760&quot;, &quot; 9628581&quot;, … &quot; 33053563&quot;]</td><td>[&quot;AJ290445&quot;, &quot; AY444166&quot;, &quot; AB011096&quot;]</td><td>[&quot;CAB90355.1&quot;, &quot; AAR17520.1&quot;, &quot; BAA25450.1&quot;]</td><td>[&quot;ENSG00000004139.14&quot;]</td><td>[&quot;ENST00000585482.6&quot;]</td><td>[&quot;ENSP00000468032.2&quot;]</td><td>[&quot;15893701&quot;, &quot; 17804407&quot;, … &quot; 16306936&quot;]</td><td>[0.000058, 0.000053, … 0.0002]</td><td>&quot;NAD(+) hydrolase SARM1 (NADase…</td><td>&quot;SARM1 KIAA0524 SAMD2 SARM&quot;</td><td>&quot;Homo sapiens (Human)&quot;</td><td>&quot;SARM1&quot;</td><td>&quot;ENSG00000004139.14&quot;</td></tr><tr><td>&quot;6o0t_1_E_F&quot;</td><td>&quot;6o0t&quot;</td><td>&quot;E&quot;</td><td>&quot;Home sapiens&quot;</td><td>&quot;Human&quot;</td><td>9606</td><td>&quot;Mammalia&quot;</td><td>122.5</td><td>&quot;Animalia&quot;</td><td>&quot;Chordata&quot;</td><td>&quot;Q6SZW1&quot;</td><td>&quot;Q6SZW1&quot;</td><td>&quot;SARM1_HUMAN&quot;</td><td>&quot;23098&quot;</td><td>&quot;NP_055892.2&quot;</td><td>[&quot;83288284&quot;, &quot; 7711002&quot;, … &quot; 154090976&quot;]</td><td>&quot;6O0Q:A; 6O0Q:B; 6O0R:A; 6O0R:B…</td><td>[&quot;GO:0030424&quot;, &quot; GO:0009986&quot;, … &quot; GO:0007165&quot;]</td><td>&quot;UniRef100_Q6SZW1&quot;</td><td>&quot;UniRef90_Q6SZW1&quot;</td><td>&quot;UniRef50_Q6SZW1&quot;</td><td>&quot;UPI000021FB54&quot;</td><td>null</td><td>9606</td><td>&quot;607732&quot;</td><td>null</td><td>[&quot;11386760&quot;, &quot; 9628581&quot;, … &quot; 33053563&quot;]</td><td>[&quot;AJ290445&quot;, &quot; AY444166&quot;, &quot; AB011096&quot;]</td><td>[&quot;CAB90355.1&quot;, &quot; AAR17520.1&quot;, &quot; BAA25450.1&quot;]</td><td>[&quot;ENSG00000004139.14&quot;]</td><td>[&quot;ENST00000585482.6&quot;]</td><td>[&quot;ENSP00000468032.2&quot;]</td><td>[&quot;15893701&quot;, &quot; 17804407&quot;, … &quot; 16306936&quot;]</td><td>[0.000053, 0.000037, … 0.000169]</td><td>&quot;NAD(+) hydrolase SARM1 (NADase…</td><td>&quot;SARM1 KIAA0524 SAMD2 SARM&quot;</td><td>&quot;Homo sapiens (Human)&quot;</td><td>&quot;SARM1&quot;</td><td>&quot;ENSG00000004139.14&quot;</td></tr><tr><td>&hellip;</td><td>&hellip;</td><td>&hellip;</td><td>&hellip;</td><td>&hellip;</td><td>&hellip;</td><td>&hellip;</td><td>&hellip;</td><td>&hellip;</td><td>&hellip;</td><td>&hellip;</td><td>&hellip;</td><td>&hellip;</td><td>&hellip;</td><td>&hellip;</td><td>&hellip;</td><td>&hellip;</td><td>&hellip;</td><td>&hellip;</td><td>&hellip;</td><td>&hellip;</td><td>&hellip;</td><td>&hellip;</td><td>&hellip;</td><td>&hellip;</td><td>&hellip;</td><td>&hellip;</td><td>&hellip;</td><td>&hellip;</td><td>&hellip;</td><td>&hellip;</td><td>&hellip;</td><td>&hellip;</td><td>&hellip;</td><td>&hellip;</td><td>&hellip;</td><td>&hellip;</td><td>&hellip;</td><td>&hellip;</td></tr><tr><td>&quot;6ud0_1_C_B&quot;</td><td>&quot;6ud0&quot;</td><td>&quot;B&quot;</td><td>&quot;Home sapiens&quot;</td><td>&quot;Human&quot;</td><td>9606</td><td>&quot;Mammalia&quot;</td><td>122.5</td><td>&quot;Animalia&quot;</td><td>&quot;Chordata&quot;</td><td>&quot;P0CG47&quot;</td><td>&quot;P0CG47&quot;</td><td>&quot;UBB_HUMAN&quot;</td><td>&quot;7314&quot;</td><td>&quot;NP_001268645.1; NP_001268646.1…</td><td>[&quot;931139757&quot;, &quot; 955264916&quot;, … &quot; 757818933&quot;]</td><td>&quot;2KHW:B; 2MBB:B; 2MRO:A; 2MSG:A…</td><td>[&quot;GO:0005737&quot;, &quot; GO:0005829&quot;, … &quot; GO:0072520&quot;]</td><td>&quot;UniRef100_P0CG47&quot;</td><td>&quot;UniRef90_P0CG47&quot;</td><td>&quot;UniRef50_P0CG47&quot;</td><td>&quot;UPI0000002146&quot;</td><td>&quot;A26437&quot;</td><td>9606</td><td>&quot;191339&quot;</td><td>null</td><td>[&quot;3029682&quot;, &quot; 14745543&quot;, … &quot; 26416742&quot;]</td><td>[&quot;X04803&quot;, &quot; AB089617&quot;, … &quot; BC046123&quot;]</td><td>[&quot;CAA28495.1&quot;, &quot; BAC56955.1&quot;, … &quot; AAH46123.1&quot;]</td><td>[&quot;ENSG00000170315.14&quot;]</td><td>[&quot;ENST00000302182.8&quot;, &quot; ENST00000395837.1&quot;, … &quot; ENST00000614404.1&quot;]</td><td>[&quot;ENSP00000304697.3&quot;, &quot; ENSP00000379178.1&quot;, … &quot; ENSP00000478771.1&quot;]</td><td>[&quot;12055595&quot;, &quot; 12871580&quot;, … &quot; 37724023&quot;]</td><td>[-6.9931e-8, -0.000059, … -0.000153]</td><td>&quot;Polyubiquitin-B [Cleaved into:…</td><td>&quot;UBB&quot;</td><td>&quot;Homo sapiens (Human)&quot;</td><td>&quot;UBB&quot;</td><td>&quot;ENSG00000170315.14&quot;</td></tr><tr><td>&quot;7ojx_1_A_C&quot;</td><td>&quot;7ojx&quot;</td><td>&quot;C&quot;</td><td>&quot;Home sapiens&quot;</td><td>&quot;Human&quot;</td><td>9606</td><td>&quot;Mammalia&quot;</td><td>122.5</td><td>&quot;Animalia&quot;</td><td>&quot;Chordata&quot;</td><td>&quot;P0CG47&quot;</td><td>&quot;P0CG47&quot;</td><td>&quot;UBB_HUMAN&quot;</td><td>&quot;7314&quot;</td><td>&quot;NP_001268645.1; NP_001268646.1…</td><td>[&quot;931139757&quot;, &quot; 955264916&quot;, … &quot; 757818933&quot;]</td><td>&quot;2KHW:B; 2MBB:B; 2MRO:A; 2MSG:A…</td><td>[&quot;GO:0005737&quot;, &quot; GO:0005829&quot;, … &quot; GO:0072520&quot;]</td><td>&quot;UniRef100_P0CG47&quot;</td><td>&quot;UniRef90_P0CG47&quot;</td><td>&quot;UniRef50_P0CG47&quot;</td><td>&quot;UPI0000002146&quot;</td><td>&quot;A26437&quot;</td><td>9606</td><td>&quot;191339&quot;</td><td>null</td><td>[&quot;3029682&quot;, &quot; 14745543&quot;, … &quot; 26416742&quot;]</td><td>[&quot;X04803&quot;, &quot; AB089617&quot;, … &quot; BC046123&quot;]</td><td>[&quot;CAA28495.1&quot;, &quot; BAC56955.1&quot;, … &quot; AAH46123.1&quot;]</td><td>[&quot;ENSG00000170315.14&quot;]</td><td>[&quot;ENST00000302182.8&quot;, &quot; ENST00000395837.1&quot;, … &quot; ENST00000614404.1&quot;]</td><td>[&quot;ENSP00000304697.3&quot;, &quot; ENSP00000379178.1&quot;, … &quot; ENSP00000478771.1&quot;]</td><td>[&quot;12055595&quot;, &quot; 12871580&quot;, … &quot; 37724023&quot;]</td><td>[-8.5373e-7, -0.000051, … -0.000071]</td><td>&quot;Polyubiquitin-B [Cleaved into:…</td><td>&quot;UBB&quot;</td><td>&quot;Homo sapiens (Human)&quot;</td><td>&quot;UBB&quot;</td><td>&quot;ENSG00000170315.14&quot;</td></tr><tr><td>&quot;5jtv_1_A_B&quot;</td><td>&quot;5jtv&quot;</td><td>&quot;B&quot;</td><td>&quot;Home sapiens&quot;</td><td>&quot;Human&quot;</td><td>9606</td><td>&quot;Mammalia&quot;</td><td>122.5</td><td>&quot;Animalia&quot;</td><td>&quot;Chordata&quot;</td><td>&quot;P0CG47&quot;</td><td>&quot;P0CG47&quot;</td><td>&quot;UBB_HUMAN&quot;</td><td>&quot;7314&quot;</td><td>&quot;NP_001268645.1; NP_001268646.1…</td><td>[&quot;931139757&quot;, &quot; 955264916&quot;, … &quot; 757818933&quot;]</td><td>&quot;2KHW:B; 2MBB:B; 2MRO:A; 2MSG:A…</td><td>[&quot;GO:0005737&quot;, &quot; GO:0005829&quot;, … &quot; GO:0072520&quot;]</td><td>&quot;UniRef100_P0CG47&quot;</td><td>&quot;UniRef90_P0CG47&quot;</td><td>&quot;UniRef50_P0CG47&quot;</td><td>&quot;UPI0000002146&quot;</td><td>&quot;A26437&quot;</td><td>9606</td><td>&quot;191339&quot;</td><td>null</td><td>[&quot;3029682&quot;, &quot; 14745543&quot;, … &quot; 26416742&quot;]</td><td>[&quot;X04803&quot;, &quot; AB089617&quot;, … &quot; BC046123&quot;]</td><td>[&quot;CAA28495.1&quot;, &quot; BAC56955.1&quot;, … &quot; AAH46123.1&quot;]</td><td>[&quot;ENSG00000170315.14&quot;]</td><td>[&quot;ENST00000302182.8&quot;, &quot; ENST00000395837.1&quot;, … &quot; ENST00000614404.1&quot;]</td><td>[&quot;ENSP00000304697.3&quot;, &quot; ENSP00000379178.1&quot;, … &quot; ENSP00000478771.1&quot;]</td><td>[&quot;12055595&quot;, &quot; 12871580&quot;, … &quot; 37724023&quot;]</td><td>[0.000056, 0.000052, … 0.00022]</td><td>&quot;Polyubiquitin-B [Cleaved into:…</td><td>&quot;UBB&quot;</td><td>&quot;Homo sapiens (Human)&quot;</td><td>&quot;UBB&quot;</td><td>&quot;ENSG00000170315.14&quot;</td></tr><tr><td>&quot;8blo_1_A_C&quot;</td><td>&quot;8blo&quot;</td><td>&quot;A&quot;</td><td>&quot;Home sapiens&quot;</td><td>&quot;Human&quot;</td><td>9606</td><td>&quot;Mammalia&quot;</td><td>122.5</td><td>&quot;Animalia&quot;</td><td>&quot;Chordata&quot;</td><td>&quot;Q15849&quot;</td><td>&quot;Q15849&quot;</td><td>&quot;UT2_HUMAN&quot;</td><td>&quot;8170&quot;</td><td>&quot;NP_001229621.1; NP_001358248.1…</td><td>[&quot;2499093&quot;, &quot; 158258276&quot;, … &quot; 1034604811&quot;]</td><td>&quot;8BLO:A; 8BLO:B; 8BLO:C; 8XD7:A…</td><td>[&quot;GO:0016324&quot;, &quot; GO:0016020&quot;, … &quot; GO:0015840&quot;]</td><td>&quot;UniRef100_Q15849&quot;</td><td>&quot;UniRef90_Q15849&quot;</td><td>&quot;UniRef50_Q15849&quot;</td><td>&quot;UPI000013CE99&quot;</td><td>&quot;S71339&quot;</td><td>9606</td><td>&quot;601611&quot;</td><td>null</td><td>[&quot;8647271&quot;, &quot; 11502588&quot;, … &quot; 17702749&quot;]</td><td>[&quot;X96969&quot;, &quot; AF349446&quot;, … &quot; BC110446&quot;]</td><td>[&quot;CAA65657.1&quot;, &quot; AAL08485.1&quot;, … &quot; AAI10447.1&quot;]</td><td>[&quot;ENSG00000132874.15&quot;]</td><td>[&quot;ENST00000255226.11&quot;, &quot; ENST00000586448.5&quot;]</td><td>[&quot;ENSP00000255226.5&quot;, &quot; ENSP00000465953.1&quot;]</td><td>[&quot;11590132&quot;, &quot; 17344938&quot;, … &quot; 7989337&quot;]</td><td>[0.000044, 0.000044, … 0.0002]</td><td>&quot;Urea transporter 2 (Solute car…</td><td>&quot;SLC14A2 HUT2 UT2&quot;</td><td>&quot;Homo sapiens (Human)&quot;</td><td>&quot;SLC14A2&quot;</td><td>&quot;ENSG00000132874.15&quot;</td></tr><tr><td>&quot;8blo_1_A_C&quot;</td><td>&quot;8blo&quot;</td><td>&quot;C&quot;</td><td>&quot;Home sapiens&quot;</td><td>&quot;Human&quot;</td><td>9606</td><td>&quot;Mammalia&quot;</td><td>122.5</td><td>&quot;Animalia&quot;</td><td>&quot;Chordata&quot;</td><td>&quot;Q15849&quot;</td><td>&quot;Q15849&quot;</td><td>&quot;UT2_HUMAN&quot;</td><td>&quot;8170&quot;</td><td>&quot;NP_001229621.1; NP_001358248.1…</td><td>[&quot;2499093&quot;, &quot; 158258276&quot;, … &quot; 1034604811&quot;]</td><td>&quot;8BLO:A; 8BLO:B; 8BLO:C; 8XD7:A…</td><td>[&quot;GO:0016324&quot;, &quot; GO:0016020&quot;, … &quot; GO:0015840&quot;]</td><td>&quot;UniRef100_Q15849&quot;</td><td>&quot;UniRef90_Q15849&quot;</td><td>&quot;UniRef50_Q15849&quot;</td><td>&quot;UPI000013CE99&quot;</td><td>&quot;S71339&quot;</td><td>9606</td><td>&quot;601611&quot;</td><td>null</td><td>[&quot;8647271&quot;, &quot; 11502588&quot;, … &quot; 17702749&quot;]</td><td>[&quot;X96969&quot;, &quot; AF349446&quot;, … &quot; BC110446&quot;]</td><td>[&quot;CAA65657.1&quot;, &quot; AAL08485.1&quot;, … &quot; AAI10447.1&quot;]</td><td>[&quot;ENSG00000132874.15&quot;]</td><td>[&quot;ENST00000255226.11&quot;, &quot; ENST00000586448.5&quot;]</td><td>[&quot;ENSP00000255226.5&quot;, &quot; ENSP00000465953.1&quot;]</td><td>[&quot;11590132&quot;, &quot; 17344938&quot;, … &quot; 7989337&quot;]</td><td>[0.000044, 0.000044, … 0.0002]</td><td>&quot;Urea transporter 2 (Solute car…</td><td>&quot;SLC14A2 HUT2 UT2&quot;</td><td>&quot;Homo sapiens (Human)&quot;</td><td>&quot;SLC14A2&quot;</td><td>&quot;ENSG00000132874.15&quot;</td></tr></tbody></table></div>"
      ],
      "text/plain": [
       "shape: (17_117, 39)\n",
       "┌────────────┬────────┬──────────┬────────────┬───┬────────────┬───────────┬───────────┬───────────┐\n",
       "│ id         ┆ pdb_id ┆ chain_id ┆ organism   ┆ … ┆ uniprot_ge ┆ uniprot_o ┆ primary_g ┆ ensembl_i │\n",
       "│ ---        ┆ ---    ┆ ---      ┆ ---        ┆   ┆ ne_names   ┆ rganism_n ┆ ene_name  ┆ d         │\n",
       "│ str        ┆ str    ┆ str      ┆ str        ┆   ┆ ---        ┆ ame       ┆ ---       ┆ ---       │\n",
       "│            ┆        ┆          ┆            ┆   ┆ str        ┆ ---       ┆ str       ┆ str       │\n",
       "│            ┆        ┆          ┆            ┆   ┆            ┆ str       ┆           ┆           │\n",
       "╞════════════╪════════╪══════════╪════════════╪═══╪════════════╪═══════════╪═══════════╪═══════════╡\n",
       "│ 6v9w_1_A_B ┆ 6v9w   ┆ A        ┆ Home       ┆ … ┆ TRPA1      ┆ Homo      ┆ TRPA1     ┆ ENSG00000 │\n",
       "│            ┆        ┆          ┆ sapiens    ┆   ┆ ANKTM1     ┆ sapiens   ┆           ┆ 104321.11 │\n",
       "│            ┆        ┆          ┆            ┆   ┆            ┆ (Human)   ┆           ┆           │\n",
       "│ 6v9w_1_A_B ┆ 6v9w   ┆ B        ┆ Home       ┆ … ┆ TRPA1      ┆ Homo      ┆ TRPA1     ┆ ENSG00000 │\n",
       "│            ┆        ┆          ┆ sapiens    ┆   ┆ ANKTM1     ┆ sapiens   ┆           ┆ 104321.11 │\n",
       "│            ┆        ┆          ┆            ┆   ┆            ┆ (Human)   ┆           ┆           │\n",
       "│ 6zfx_1_G_H ┆ 6zfx   ┆ G        ┆ Home       ┆ … ┆ SARM1      ┆ Homo      ┆ SARM1     ┆ ENSG00000 │\n",
       "│            ┆        ┆          ┆ sapiens    ┆   ┆ KIAA0524   ┆ sapiens   ┆           ┆ 004139.14 │\n",
       "│            ┆        ┆          ┆            ┆   ┆ SAMD2 SARM ┆ (Human)   ┆           ┆           │\n",
       "│ 6zfx_1_G_H ┆ 6zfx   ┆ H        ┆ Home       ┆ … ┆ SARM1      ┆ Homo      ┆ SARM1     ┆ ENSG00000 │\n",
       "│            ┆        ┆          ┆ sapiens    ┆   ┆ KIAA0524   ┆ sapiens   ┆           ┆ 004139.14 │\n",
       "│            ┆        ┆          ┆            ┆   ┆ SAMD2 SARM ┆ (Human)   ┆           ┆           │\n",
       "│ 6o0t_1_E_F ┆ 6o0t   ┆ E        ┆ Home       ┆ … ┆ SARM1      ┆ Homo      ┆ SARM1     ┆ ENSG00000 │\n",
       "│            ┆        ┆          ┆ sapiens    ┆   ┆ KIAA0524   ┆ sapiens   ┆           ┆ 004139.14 │\n",
       "│            ┆        ┆          ┆            ┆   ┆ SAMD2 SARM ┆ (Human)   ┆           ┆           │\n",
       "│ …          ┆ …      ┆ …        ┆ …          ┆ … ┆ …          ┆ …         ┆ …         ┆ …         │\n",
       "│ 6ud0_1_C_B ┆ 6ud0   ┆ B        ┆ Home       ┆ … ┆ UBB        ┆ Homo      ┆ UBB       ┆ ENSG00000 │\n",
       "│            ┆        ┆          ┆ sapiens    ┆   ┆            ┆ sapiens   ┆           ┆ 170315.14 │\n",
       "│            ┆        ┆          ┆            ┆   ┆            ┆ (Human)   ┆           ┆           │\n",
       "│ 7ojx_1_A_C ┆ 7ojx   ┆ C        ┆ Home       ┆ … ┆ UBB        ┆ Homo      ┆ UBB       ┆ ENSG00000 │\n",
       "│            ┆        ┆          ┆ sapiens    ┆   ┆            ┆ sapiens   ┆           ┆ 170315.14 │\n",
       "│            ┆        ┆          ┆            ┆   ┆            ┆ (Human)   ┆           ┆           │\n",
       "│ 5jtv_1_A_B ┆ 5jtv   ┆ B        ┆ Home       ┆ … ┆ UBB        ┆ Homo      ┆ UBB       ┆ ENSG00000 │\n",
       "│            ┆        ┆          ┆ sapiens    ┆   ┆            ┆ sapiens   ┆           ┆ 170315.14 │\n",
       "│            ┆        ┆          ┆            ┆   ┆            ┆ (Human)   ┆           ┆           │\n",
       "│ 8blo_1_A_C ┆ 8blo   ┆ A        ┆ Home       ┆ … ┆ SLC14A2    ┆ Homo      ┆ SLC14A2   ┆ ENSG00000 │\n",
       "│            ┆        ┆          ┆ sapiens    ┆   ┆ HUT2 UT2   ┆ sapiens   ┆           ┆ 132874.15 │\n",
       "│            ┆        ┆          ┆            ┆   ┆            ┆ (Human)   ┆           ┆           │\n",
       "│ 8blo_1_A_C ┆ 8blo   ┆ C        ┆ Home       ┆ … ┆ SLC14A2    ┆ Homo      ┆ SLC14A2   ┆ ENSG00000 │\n",
       "│            ┆        ┆          ┆ sapiens    ┆   ┆ HUT2 UT2   ┆ sapiens   ┆           ┆ 132874.15 │\n",
       "│            ┆        ┆          ┆            ┆   ┆            ┆ (Human)   ┆           ┆           │\n",
       "└────────────┴────────┴──────────┴────────────┴───┴────────────┴───────────┴───────────┴───────────┘"
      ]
     },
     "execution_count": 10,
     "metadata": {},
     "output_type": "execute_result"
    }
   ],
   "source": [
    "adv = pp_advanced.filter(pl.col(\"uniprot_protein_names\").is_not_null())\n",
    "adv"
   ]
  },
  {
   "cell_type": "code",
   "execution_count": 12,
   "id": "0ed1e2d2",
   "metadata": {},
   "outputs": [
    {
     "data": {
      "text/html": [
       "<div><style>\n",
       ".dataframe > thead > tr,\n",
       ".dataframe > tbody > tr {\n",
       "  text-align: right;\n",
       "  white-space: pre-wrap;\n",
       "}\n",
       "</style>\n",
       "<small>shape: (0, 39)</small><table border=\"1\" class=\"dataframe\"><thead><tr><th>id</th><th>pdb_id</th><th>chain_id</th><th>organism</th><th>common_name</th><th>taxonomy_id</th><th>classification</th><th>max_longevity_yrs</th><th>kingdom</th><th>phylum</th><th>uniprot_ids</th><th>UniProtKB_AC</th><th>UniProtKB_ID</th><th>GeneID_EntrezGene</th><th>RefSeq</th><th>GI</th><th>PDB</th><th>GO</th><th>UniRef100</th><th>UniRef90</th><th>UniRef50</th><th>UniParc</th><th>PIR</th><th>NCBI_taxon</th><th>MIM</th><th>UniGene</th><th>PubMed</th><th>EMBL</th><th>EMBL_CDS</th><th>Ensembl</th><th>Ensembl_TRS</th><th>Ensembl_PRO</th><th>Additional_PubMed</th><th>graph_embedding</th><th>uniprot_protein_names</th><th>uniprot_gene_names</th><th>uniprot_organism_name</th><th>primary_gene_name</th><th>ensembl_id</th></tr><tr><td>str</td><td>str</td><td>str</td><td>str</td><td>str</td><td>i64</td><td>str</td><td>f64</td><td>str</td><td>str</td><td>str</td><td>str</td><td>str</td><td>str</td><td>str</td><td>list[str]</td><td>str</td><td>list[str]</td><td>str</td><td>str</td><td>str</td><td>str</td><td>str</td><td>i64</td><td>str</td><td>str</td><td>list[str]</td><td>list[str]</td><td>list[str]</td><td>list[str]</td><td>list[str]</td><td>list[str]</td><td>list[str]</td><td>list[f64]</td><td>str</td><td>str</td><td>str</td><td>str</td><td>str</td></tr></thead><tbody></tbody></table></div>"
      ],
      "text/plain": [
       "shape: (0, 39)\n",
       "┌─────┬────────┬──────────┬──────────┬───┬──────────────┬──────────────┬──────────────┬────────────┐\n",
       "│ id  ┆ pdb_id ┆ chain_id ┆ organism ┆ … ┆ uniprot_gene ┆ uniprot_orga ┆ primary_gene ┆ ensembl_id │\n",
       "│ --- ┆ ---    ┆ ---      ┆ ---      ┆   ┆ _names       ┆ nism_name    ┆ _name        ┆ ---        │\n",
       "│ str ┆ str    ┆ str      ┆ str      ┆   ┆ ---          ┆ ---          ┆ ---          ┆ str        │\n",
       "│     ┆        ┆          ┆          ┆   ┆ str          ┆ str          ┆ str          ┆            │\n",
       "╞═════╪════════╪══════════╪══════════╪═══╪══════════════╪══════════════╪══════════════╪════════════╡\n",
       "└─────┴────────┴──────────┴──────────┴───┴──────────────┴──────────────┴──────────────┴────────────┘"
      ]
     },
     "execution_count": 12,
     "metadata": {},
     "output_type": "execute_result"
    }
   ],
   "source": [
    "adv.filter(pl.col(\"uniprot_protein_names\").str.contains(\"IGF1\"))"
   ]
  },
  {
   "cell_type": "code",
   "execution_count": 35,
   "id": "6b8af5aa",
   "metadata": {},
   "outputs": [
    {
     "ename": "",
     "evalue": "",
     "output_type": "error",
     "traceback": [
      "\u001b[1;31mThe Kernel crashed while executing code in the current cell or a previous cell. \n",
      "\u001b[1;31mPlease review the code in the cell(s) to identify a possible cause of the failure. \n",
      "\u001b[1;31mClick <a href='https://aka.ms/vscodeJupyterKernelCrash'>here</a> for more info. \n",
      "\u001b[1;31mView Jupyter <a href='command:jupyter.viewOutput'>log</a> for further details."
     ]
    }
   ],
   "source": [
    "pp_extended.count().collect()"
   ]
  },
  {
   "cell_type": "code",
   "execution_count": 34,
   "id": "90a5be28",
   "metadata": {},
   "outputs": [
    {
     "data": {
      "text/html": [
       "<div><style>\n",
       ".dataframe > thead > tr,\n",
       ".dataframe > tbody > tr {\n",
       "  text-align: right;\n",
       "  white-space: pre-wrap;\n",
       "}\n",
       "</style>\n",
       "<small>shape: (1, 39)</small><table border=\"1\" class=\"dataframe\"><thead><tr><th>id</th><th>pdb_id</th><th>chain_id</th><th>organism</th><th>common_name</th><th>taxonomy_id</th><th>classification</th><th>max_longevity_yrs</th><th>kingdom</th><th>phylum</th><th>uniprot_ids</th><th>UniProtKB_AC</th><th>UniProtKB_ID</th><th>GeneID_EntrezGene</th><th>RefSeq</th><th>GI</th><th>PDB</th><th>GO</th><th>UniRef100</th><th>UniRef90</th><th>UniRef50</th><th>UniParc</th><th>PIR</th><th>NCBI_taxon</th><th>MIM</th><th>UniGene</th><th>PubMed</th><th>EMBL</th><th>EMBL_CDS</th><th>Ensembl</th><th>Ensembl_TRS</th><th>Ensembl_PRO</th><th>Additional_PubMed</th><th>graph_embedding</th><th>uniprot_protein_names</th><th>uniprot_gene_names</th><th>uniprot_organism_name</th><th>primary_gene_name</th><th>ensembl_id</th></tr><tr><td>u32</td><td>u32</td><td>u32</td><td>u32</td><td>u32</td><td>u32</td><td>u32</td><td>u32</td><td>u32</td><td>u32</td><td>u32</td><td>u32</td><td>u32</td><td>u32</td><td>u32</td><td>u32</td><td>u32</td><td>u32</td><td>u32</td><td>u32</td><td>u32</td><td>u32</td><td>u32</td><td>u32</td><td>u32</td><td>u32</td><td>u32</td><td>u32</td><td>u32</td><td>u32</td><td>u32</td><td>u32</td><td>u32</td><td>u32</td><td>u32</td><td>u32</td><td>u32</td><td>u32</td><td>u32</td></tr></thead><tbody><tr><td>113974</td><td>113974</td><td>113974</td><td>113974</td><td>113974</td><td>113974</td><td>113974</td><td>113832</td><td>113974</td><td>113974</td><td>113974</td><td>113974</td><td>113974</td><td>109794</td><td>111092</td><td>113877</td><td>113857</td><td>113680</td><td>113974</td><td>113974</td><td>113974</td><td>113974</td><td>91991</td><td>113974</td><td>80003</td><td>0</td><td>113910</td><td>113215</td><td>113215</td><td>90218</td><td>90218</td><td>90218</td><td>111023</td><td>113974</td><td>62359</td><td>62323</td><td>62359</td><td>113172</td><td>90218</td></tr></tbody></table></div>"
      ],
      "text/plain": [
       "shape: (1, 39)\n",
       "┌────────┬────────┬──────────┬──────────┬───┬─────────────┬─────────────┬─────────────┬────────────┐\n",
       "│ id     ┆ pdb_id ┆ chain_id ┆ organism ┆ … ┆ uniprot_gen ┆ uniprot_org ┆ primary_gen ┆ ensembl_id │\n",
       "│ ---    ┆ ---    ┆ ---      ┆ ---      ┆   ┆ e_names     ┆ anism_name  ┆ e_name      ┆ ---        │\n",
       "│ u32    ┆ u32    ┆ u32      ┆ u32      ┆   ┆ ---         ┆ ---         ┆ ---         ┆ u32        │\n",
       "│        ┆        ┆          ┆          ┆   ┆ u32         ┆ u32         ┆ u32         ┆            │\n",
       "╞════════╪════════╪══════════╪══════════╪═══╪═════════════╪═════════════╪═════════════╪════════════╡\n",
       "│ 113974 ┆ 113974 ┆ 113974   ┆ 113974   ┆ … ┆ 62323       ┆ 62359       ┆ 113172      ┆ 90218      │\n",
       "└────────┴────────┴──────────┴──────────┴───┴─────────────┴─────────────┴─────────────┴────────────┘"
      ]
     },
     "execution_count": 34,
     "metadata": {},
     "output_type": "execute_result"
    }
   ],
   "source": [
    "pp_advanced.count().collect()"
   ]
  },
  {
   "cell_type": "code",
   "execution_count": 32,
   "id": "4bd2f2a6",
   "metadata": {},
   "outputs": [
    {
     "data": {
      "text/html": [
       "<div><style>\n",
       ".dataframe > thead > tr,\n",
       ".dataframe > tbody > tr {\n",
       "  text-align: right;\n",
       "  white-space: pre-wrap;\n",
       "}\n",
       "</style>\n",
       "<small>shape: (5, 1)</small><table border=\"1\" class=\"dataframe\"><thead><tr><th>primary_gene_name</th></tr><tr><td>str</td></tr></thead><tbody><tr><td>&quot;UBE2W&quot;</td></tr><tr><td>&quot;MLST8&quot;</td></tr><tr><td>&quot;ompC&quot;</td></tr><tr><td>&quot;Ctnna2&quot;</td></tr><tr><td>&quot;ETFB&quot;</td></tr></tbody></table></div>"
      ],
      "text/plain": [
       "shape: (5, 1)\n",
       "┌───────────────────┐\n",
       "│ primary_gene_name │\n",
       "│ ---               │\n",
       "│ str               │\n",
       "╞═══════════════════╡\n",
       "│ UBE2W             │\n",
       "│ MLST8             │\n",
       "│ ompC              │\n",
       "│ Ctnna2            │\n",
       "│ ETFB              │\n",
       "└───────────────────┘"
      ]
     },
     "execution_count": 32,
     "metadata": {},
     "output_type": "execute_result"
    }
   ],
   "source": [
    "pp_advanced.select(\"primary_gene_name\").unique().head().collect()"
   ]
  },
  {
   "cell_type": "code",
   "execution_count": 28,
   "id": "923343cb",
   "metadata": {},
   "outputs": [
    {
     "data": {
      "text/html": [
       "<div><style>\n",
       ".dataframe > thead > tr,\n",
       ".dataframe > tbody > tr {\n",
       "  text-align: right;\n",
       "  white-space: pre-wrap;\n",
       "}\n",
       "</style>\n",
       "<small>shape: (5, 38)</small><table border=\"1\" class=\"dataframe\"><thead><tr><th>entry_id</th><th>pdb_id</th><th>chain_id</th><th>protein_name</th><th>organism</th><th>common_name</th><th>taxonomy_id</th><th>classification</th><th>max_longevity_yrs</th><th>kingdom</th><th>phylum</th><th>uniprot_ids</th><th>UniProtKB_AC</th><th>UniProtKB_ID</th><th>GeneID_EntrezGene</th><th>RefSeq</th><th>GI</th><th>PDB</th><th>GO</th><th>UniRef100</th><th>UniRef90</th><th>UniRef50</th><th>UniParc</th><th>PIR</th><th>NCBI_taxon</th><th>MIM</th><th>UniGene</th><th>PubMed</th><th>EMBL</th><th>EMBL_CDS</th><th>Ensembl</th><th>Ensembl_TRS</th><th>Ensembl_PRO</th><th>Additional_PubMed</th><th>uniprot_gene_names</th><th>uniprot_organism_name</th><th>ensembl_id</th><th>primary_gene_name</th></tr><tr><td>str</td><td>str</td><td>str</td><td>str</td><td>str</td><td>str</td><td>i64</td><td>str</td><td>f64</td><td>str</td><td>str</td><td>str</td><td>str</td><td>str</td><td>str</td><td>str</td><td>list[str]</td><td>str</td><td>list[str]</td><td>str</td><td>str</td><td>str</td><td>str</td><td>str</td><td>i64</td><td>str</td><td>str</td><td>list[str]</td><td>list[str]</td><td>list[str]</td><td>list[str]</td><td>list[str]</td><td>list[str]</td><td>list[str]</td><td>str</td><td>str</td><td>str</td><td>str</td></tr></thead><tbody><tr><td>&quot;7um4_1_A_B&quot;</td><td>&quot;7um4&quot;</td><td>&quot;B&quot;</td><td>&quot;N/A (from TSV)&quot;</td><td>&quot;Home sapiens&quot;</td><td>&quot;Human&quot;</td><td>9606</td><td>&quot;Mammalia&quot;</td><td>122.5</td><td>&quot;Animalia&quot;</td><td>&quot;Chordata&quot;</td><td>&quot;Q9V2J8&quot;</td><td>&quot;Q9V2J8&quot;</td><td>&quot;Q9V2J8_PYRAB&quot;</td><td>null</td><td>&quot;WP_010867201.1&quot;</td><td>[&quot;83754399&quot;, &quot; 283806864&quot;, … &quot; 83754400&quot;]</td><td>&quot;2BFW:A; 2BIS:A; 2BIS:B; 2BIS:C…</td><td>[&quot;GO:0004373&quot;]</td><td>&quot;UniRef100_Q9V2J8&quot;</td><td>&quot;UniRef90_Q9V2J8&quot;</td><td>&quot;UniRef50_C5A4D7&quot;</td><td>&quot;UPI00000346E2&quot;</td><td>&quot;A75194&quot;</td><td>272844</td><td>null</td><td>null</td><td>[&quot;10736225&quot;, &quot; 11381026&quot;, … &quot; 39695122&quot;]</td><td>[&quot;AJ248283&quot;, &quot; HE613800&quot;]</td><td>[&quot;CAB49000.1&quot;, &quot; CCE69451.1&quot;]</td><td>null</td><td>null</td><td>null</td><td>null</td><td>null</td><td>null</td><td>null</td><td>null</td></tr><tr><td>&quot;1gl2_1_A_C&quot;</td><td>&quot;1gl2&quot;</td><td>&quot;C&quot;</td><td>&quot;N/A (from TSV)&quot;</td><td>&quot;Balb/c mouse&quot;</td><td>&quot;House mouse&quot;</td><td>10090</td><td>&quot;Mammalia&quot;</td><td>4.0</td><td>&quot;Animalia&quot;</td><td>&quot;Chordata&quot;</td><td>&quot;O88384&quot;</td><td>&quot;O88384&quot;</td><td>&quot;VTI1B_MOUSE&quot;</td><td>null</td><td>null</td><td>[&quot;13124606&quot;, &quot; 18655560&quot;, … &quot; 3213229&quot;]</td><td>&quot;1GL2:C; 2QYW:A&quot;</td><td>[&quot;GO:0031901&quot;, &quot; GO:0005794&quot;, … &quot; GO:0016192&quot;]</td><td>&quot;UniRef100_O88384&quot;</td><td>&quot;UniRef90_O88384&quot;</td><td>&quot;UniRef50_O88384&quot;</td><td>&quot;UPI0000029675&quot;</td><td>null</td><td>10090</td><td>null</td><td>null</td><td>[&quot;9553086&quot;, &quot; 15363411&quot;, … &quot; 11786915&quot;]</td><td>[&quot;AF035208&quot;]</td><td>[&quot;AAC23483.1&quot;]</td><td>null</td><td>null</td><td>null</td><td>[&quot;12861006&quot;, &quot; 15640147&quot;, … &quot; 23258225&quot;]</td><td>null</td><td>null</td><td>null</td><td>null</td></tr><tr><td>&quot;1gl2_1_C_B&quot;</td><td>&quot;1gl2&quot;</td><td>&quot;C&quot;</td><td>&quot;N/A (from TSV)&quot;</td><td>&quot;Balb/c mouse&quot;</td><td>&quot;House mouse&quot;</td><td>10090</td><td>&quot;Mammalia&quot;</td><td>4.0</td><td>&quot;Animalia&quot;</td><td>&quot;Chordata&quot;</td><td>&quot;O88384&quot;</td><td>&quot;O88384&quot;</td><td>&quot;VTI1B_MOUSE&quot;</td><td>null</td><td>null</td><td>[&quot;13124606&quot;, &quot; 18655560&quot;, … &quot; 3213229&quot;]</td><td>&quot;1GL2:C; 2QYW:A&quot;</td><td>[&quot;GO:0031901&quot;, &quot; GO:0005794&quot;, … &quot; GO:0016192&quot;]</td><td>&quot;UniRef100_O88384&quot;</td><td>&quot;UniRef90_O88384&quot;</td><td>&quot;UniRef50_O88384&quot;</td><td>&quot;UPI0000029675&quot;</td><td>null</td><td>10090</td><td>null</td><td>null</td><td>[&quot;9553086&quot;, &quot; 15363411&quot;, … &quot; 11786915&quot;]</td><td>[&quot;AF035208&quot;]</td><td>[&quot;AAC23483.1&quot;]</td><td>null</td><td>null</td><td>null</td><td>[&quot;12861006&quot;, &quot; 15640147&quot;, … &quot; 23258225&quot;]</td><td>null</td><td>null</td><td>null</td><td>null</td></tr><tr><td>&quot;1gl2_1_D_C&quot;</td><td>&quot;1gl2&quot;</td><td>&quot;C&quot;</td><td>&quot;N/A (from TSV)&quot;</td><td>&quot;Balb/c mouse&quot;</td><td>&quot;House mouse&quot;</td><td>10090</td><td>&quot;Mammalia&quot;</td><td>4.0</td><td>&quot;Animalia&quot;</td><td>&quot;Chordata&quot;</td><td>&quot;O88384&quot;</td><td>&quot;O88384&quot;</td><td>&quot;VTI1B_MOUSE&quot;</td><td>null</td><td>null</td><td>[&quot;13124606&quot;, &quot; 18655560&quot;, … &quot; 3213229&quot;]</td><td>&quot;1GL2:C; 2QYW:A&quot;</td><td>[&quot;GO:0031901&quot;, &quot; GO:0005794&quot;, … &quot; GO:0016192&quot;]</td><td>&quot;UniRef100_O88384&quot;</td><td>&quot;UniRef90_O88384&quot;</td><td>&quot;UniRef50_O88384&quot;</td><td>&quot;UPI0000029675&quot;</td><td>null</td><td>10090</td><td>null</td><td>null</td><td>[&quot;9553086&quot;, &quot; 15363411&quot;, … &quot; 11786915&quot;]</td><td>[&quot;AF035208&quot;]</td><td>[&quot;AAC23483.1&quot;]</td><td>null</td><td>null</td><td>null</td><td>[&quot;12861006&quot;, &quot; 15640147&quot;, … &quot; 23258225&quot;]</td><td>null</td><td>null</td><td>null</td><td>null</td></tr><tr><td>&quot;7xrb_1_A_B&quot;</td><td>&quot;7xrb&quot;</td><td>&quot;A&quot;</td><td>&quot;N/A (from TSV)&quot;</td><td>&quot;Home sapiens&quot;</td><td>&quot;Human&quot;</td><td>9606</td><td>&quot;Mammalia&quot;</td><td>122.5</td><td>&quot;Animalia&quot;</td><td>&quot;Chordata&quot;</td><td>&quot;P49842&quot;</td><td>&quot;P49842&quot;</td><td>&quot;WHR1_HUMAN&quot;</td><td>&quot;8859&quot;</td><td>&quot;NP_004188.1; NP_115830.1&quot;</td><td>[&quot;2347132&quot;, &quot; 4759180&quot;, … &quot; 825661&quot;]</td><td>&quot;7XRB:A; 7XRB:B; 8YCM:A; 8YCM:B…</td><td>[&quot;GO:0005737&quot;, &quot; GO:0016607&quot;, … &quot; GO:1903518&quot;]</td><td>&quot;UniRef100_P49842&quot;</td><td>&quot;UniRef90_P49842&quot;</td><td>&quot;UniRef50_P49842&quot;</td><td>&quot;UPI000002B442&quot;</td><td>&quot;B53439&quot;</td><td>9606</td><td>&quot;604977&quot;</td><td>null</td><td>[&quot;8012361&quot;, &quot; 8132574&quot;, … &quot; 17344846&quot;]</td><td>[&quot;X77386&quot;, &quot; X77474&quot;, … &quot; U24578&quot;]</td><td>[&quot;CAA54565.1&quot;, &quot; CAA54622.1&quot;, … &quot; AAA99716.1&quot;]</td><td>[&quot;ENSG00000204344.16&quot;, &quot; ENSG00000206342.12&quot;, … &quot; ENSG00000226033.11&quot;]</td><td>[&quot;ENST00000375331.8&quot;, &quot; ENST00000375333.4&quot;, … &quot; ENST00000685781.1&quot;]</td><td>[&quot;ENSP00000364480.4&quot;, &quot; ENSP00000364482.4&quot;, … &quot; ENSP00000509445.1&quot;]</td><td>[&quot;19423540&quot;, &quot; 19851445&quot;, … &quot; 32531245&quot;]</td><td>null</td><td>null</td><td>&quot;ENSG00000204344.16&quot;</td><td>&quot;ENSG00000204344&quot;</td></tr></tbody></table></div>"
      ],
      "text/plain": [
       "shape: (5, 38)\n",
       "┌────────────┬────────┬──────────┬────────────┬───┬────────────┬───────────┬───────────┬───────────┐\n",
       "│ entry_id   ┆ pdb_id ┆ chain_id ┆ protein_na ┆ … ┆ uniprot_ge ┆ uniprot_o ┆ ensembl_i ┆ primary_g │\n",
       "│ ---        ┆ ---    ┆ ---      ┆ me         ┆   ┆ ne_names   ┆ rganism_n ┆ d         ┆ ene_name  │\n",
       "│ str        ┆ str    ┆ str      ┆ ---        ┆   ┆ ---        ┆ ame       ┆ ---       ┆ ---       │\n",
       "│            ┆        ┆          ┆ str        ┆   ┆ str        ┆ ---       ┆ str       ┆ str       │\n",
       "│            ┆        ┆          ┆            ┆   ┆            ┆ str       ┆           ┆           │\n",
       "╞════════════╪════════╪══════════╪════════════╪═══╪════════════╪═══════════╪═══════════╪═══════════╡\n",
       "│ 7um4_1_A_B ┆ 7um4   ┆ B        ┆ N/A (from  ┆ … ┆ null       ┆ null      ┆ null      ┆ null      │\n",
       "│            ┆        ┆          ┆ TSV)       ┆   ┆            ┆           ┆           ┆           │\n",
       "│ 1gl2_1_A_C ┆ 1gl2   ┆ C        ┆ N/A (from  ┆ … ┆ null       ┆ null      ┆ null      ┆ null      │\n",
       "│            ┆        ┆          ┆ TSV)       ┆   ┆            ┆           ┆           ┆           │\n",
       "│ 1gl2_1_C_B ┆ 1gl2   ┆ C        ┆ N/A (from  ┆ … ┆ null       ┆ null      ┆ null      ┆ null      │\n",
       "│            ┆        ┆          ┆ TSV)       ┆   ┆            ┆           ┆           ┆           │\n",
       "│ 1gl2_1_D_C ┆ 1gl2   ┆ C        ┆ N/A (from  ┆ … ┆ null       ┆ null      ┆ null      ┆ null      │\n",
       "│            ┆        ┆          ┆ TSV)       ┆   ┆            ┆           ┆           ┆           │\n",
       "│ 7xrb_1_A_B ┆ 7xrb   ┆ A        ┆ N/A (from  ┆ … ┆ null       ┆ null      ┆ ENSG00000 ┆ ENSG00000 │\n",
       "│            ┆        ┆          ┆ TSV)       ┆   ┆            ┆           ┆ 204344.16 ┆ 204344    │\n",
       "└────────────┴────────┴──────────┴────────────┴───┴────────────┴───────────┴───────────┴───────────┘"
      ]
     },
     "execution_count": 28,
     "metadata": {},
     "output_type": "execute_result"
    }
   ],
   "source": [
    "pp_advanced.head().collect()"
   ]
  },
  {
   "cell_type": "markdown",
   "id": "c0e849ef",
   "metadata": {},
   "source": [
    "## MAPPING TSV TO PARQUET\n"
   ]
  },
  {
   "cell_type": "code",
   "execution_count": null,
   "id": "d5180728",
   "metadata": {},
   "outputs": [
    {
     "data": {
      "text/plain": [
       "True"
      ]
     },
     "execution_count": 7,
     "metadata": {},
     "output_type": "execute_result"
    }
   ],
   "source": [
    "mapping_path = input / \"uniprot\" / \"idmapping_selected.tab\"\n",
    "mapping_path.exists()"
   ]
  },
  {
   "cell_type": "code",
   "execution_count": null,
   "id": "ad7d3af9",
   "metadata": {},
   "outputs": [],
   "source": [
    "# Read the parquet file lazily and inspect schema\n",
    "mapping_parquet = output / \"idmapping_selected.parquet\"\n",
    "\n",
    "# Lazy read\n",
    "mapping_lazy = pl.scan_parquet(mapping_parquet)\n",
    "\n",
    "# Check schema without loading all data\n",
    "print(\"Parquet schema:\")\n",
    "schema = mapping_lazy.collect_schema()\n",
    "print(schema)\n",
    "print(f\"\\nTotal columns: {len(schema)}\")\n",
    "\n",
    "# Inspect a few rows\n",
    "print(\"\\nFirst few rows:\")\n",
    "print(mapping_lazy.head(5).collect())\n",
    "\n"
   ]
  },
  {
   "cell_type": "code",
   "execution_count": null,
   "id": "4e5e27b8",
   "metadata": {},
   "outputs": [],
   "source": []
  }
 ],
 "metadata": {
  "kernelspec": {
   "display_name": ".venv",
   "language": "python",
   "name": "python3"
  },
  "language_info": {
   "codemirror_mode": {
    "name": "ipython",
    "version": 3
   },
   "file_extension": ".py",
   "mimetype": "text/x-python",
   "name": "python",
   "nbconvert_exporter": "python",
   "pygments_lexer": "ipython3",
   "version": "3.13.5"
  }
 },
 "nbformat": 4,
 "nbformat_minor": 5
}
